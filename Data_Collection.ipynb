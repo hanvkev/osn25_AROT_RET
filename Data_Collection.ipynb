{
 "cells": [
  {
   "cell_type": "markdown",
   "metadata": {},
   "source": [
    "##### Define Importdata"
   ]
  },
  {
   "cell_type": "code",
   "execution_count": null,
   "metadata": {},
   "outputs": [],
   "source": [
    "start = \"2024-02-29 22:00\"\n",
    "stop = \"2025-03-31 22:00\"\n",
    "airport_str='LSZH'"
   ]
  },
  {
   "cell_type": "markdown",
   "metadata": {},
   "source": [
    "##### Import of required libraries"
   ]
  },
  {
   "cell_type": "code",
   "execution_count": null,
   "metadata": {},
   "outputs": [],
   "source": [
    "import pandas as pd\n",
    "import numpy as np\n",
    "import datetime\n",
    "import requests\n",
    "from traffic.data import opensky\n",
    "from shapely.geometry import Polygon, Point\n",
    "from traffic.core import Traffic\n",
    "from traffic.data import airports\n",
    "from traffic.data.weather import metar\n",
    "from traffic.data import aircraft\n",
    "from astral import LocationInfo\n",
    "from astral.sun import sun\n",
    "from datetime import timedelta\n",
    "from matplotlib import pyplot as plt\n",
    "from scipy.stats import norm\n",
    "from scipy.spatial import cKDTree\n",
    "from geopy.distance import geodesic  # For accurate distance calculation\n",
    "from collections import Counter"
   ]
  },
  {
   "cell_type": "code",
   "execution_count": null,
   "metadata": {},
   "outputs": [],
   "source": [
    "pd.set_option(\"display.max_columns\", None)"
   ]
  },
  {
   "cell_type": "markdown",
   "metadata": {},
   "source": [
    "##### Creating an empty Table with the required columns"
   ]
  },
  {
   "cell_type": "code",
   "execution_count": null,
   "metadata": {},
   "outputs": [],
   "source": [
    "table = pd.DataFrame(columns=[\n",
    "    'Event',\n",
    "    'Runway',\n",
    "    'Flight (Callsign)',\n",
    "    'Flight ID',\n",
    "    'ICAO Code', # Airline\n",
    "    'A/C Type',\n",
    "    'ICAO 24',\n",
    "    'ICAO Aircraft Type',\n",
    "    'Propulsion Type',\n",
    "    'Number of Engines',\n",
    "    'MALW [kg]',\n",
    "    'ICAO Weight Turbulence Category',\n",
    "    'Entry Time',\n",
    "    'Exit Time',\n",
    "    'Time of Go-around',\n",
    "    'Time from Previous Landing [s]',\n",
    "    'Time from Previous Event [s]',\n",
    "    'Time to Next Event [s]',\n",
    "    'Go-around',\n",
    "    'Not Vacated',\n",
    "    'Short ROT',\n",
    "    'Gate Region',\n",
    "    'RET',\n",
    "    'ROT [s]'])\n",
    "table"
   ]
  },
  {
   "cell_type": "code",
   "execution_count": null,
   "metadata": {},
   "outputs": [],
   "source": [
    "columns = table.columns\n",
    "columns"
   ]
  },
  {
   "cell_type": "markdown",
   "metadata": {},
   "source": [
    "##### Creating Runway Polygons for all Runways in LSZH"
   ]
  },
  {
   "cell_type": "markdown",
   "metadata": {},
   "source": [
    "##### Arrivals"
   ]
  },
  {
   "cell_type": "markdown",
   "metadata": {},
   "source": [
    "##### Runway 14"
   ]
  },
  {
   "cell_type": "code",
   "execution_count": null,
   "metadata": {},
   "outputs": [],
   "source": [
    "# Coordinates of Runway edges\n",
    "runway_coordinates_14 = [\n",
    "    (47.482343, 8.536430),\n",
    "    (47.481882, 8.535696),\n",
    "    (47.461058, 8.564121),\n",
    "    (47.461527, 8.564832)\n",
    "]\n",
    "\n",
    "#Creating rectangle as polygon\n",
    "runway_polygon_14 = Polygon(runway_coordinates_14)"
   ]
  },
  {
   "cell_type": "markdown",
   "metadata": {},
   "source": [
    "##### Runway 16"
   ]
  },
  {
   "cell_type": "code",
   "execution_count": null,
   "metadata": {},
   "outputs": [],
   "source": [
    "# Coordinates of Runway edges\n",
    "runway_coordinates_16 = [\n",
    "    (47.47585447393498, 8.536401636302713),\n",
    "    (47.475571406110106, 8.535504664094239),\n",
    "    (47.445370026120706, 8.556302195884056),\n",
    "    (47.44564496451575, 8.55719874474424) \n",
    "]\n",
    "\n",
    "#Creating rectangle as polygon\n",
    "runway_polygon_16 = Polygon(runway_coordinates_16)"
   ]
  },
  {
   "cell_type": "markdown",
   "metadata": {},
   "source": [
    "##### Runway 28"
   ]
  },
  {
   "cell_type": "code",
   "execution_count": null,
   "metadata": {},
   "outputs": [],
   "source": [
    "# Coordinates of Runway edges\n",
    "runway_coordinates_28 = [\n",
    "    (47.456870896592605, 8.57050137471156),\n",
    "    (47.45923408397896, 8.537529522304963),\n",
    "    (47.45865425407874, 8.537438192760876),\n",
    "    (47.456327096910435, 8.570421301131713)\n",
    "]\n",
    "\n",
    "#Creating rectangle as polygon\n",
    "runway_polygon_28 = Polygon(runway_coordinates_28)"
   ]
  },
  {
   "cell_type": "markdown",
   "metadata": {},
   "source": [
    "##### Runway 34"
   ]
  },
  {
   "cell_type": "code",
   "execution_count": null,
   "metadata": {},
   "outputs": [],
   "source": [
    "# Coordinates of Runway edges\n",
    "runway_coordinates_34 = [\n",
    "    (47.47585447393498, 8.536401636302713),\n",
    "    (47.475571406110106, 8.535504664094239),\n",
    "    (47.44914103648339, 8.553699938937916),\n",
    "    (47.44940877231636, 8.554611379237143)\n",
    "]\n",
    "\n",
    "#Creating rectangle as polygon\n",
    "runway_polygon_34 = Polygon(runway_coordinates_34)"
   ]
  },
  {
   "cell_type": "markdown",
   "metadata": {},
   "source": [
    "##### departures"
   ]
  },
  {
   "cell_type": "markdown",
   "metadata": {},
   "source": [
    "##### Runway 10"
   ]
  },
  {
   "cell_type": "code",
   "execution_count": null,
   "metadata": {},
   "outputs": [],
   "source": [
    "# Coordinates of Runway edges\n",
    "runway_coordinates_10 = [\n",
    "    (47.456870896592605, 8.57050137471156),\n",
    "    (47.45923408397896, 8.537529522304963),\n",
    "    (47.45865425407874, 8.537438192760876),\n",
    "    (47.456327096910435, 8.570421301131713)\n",
    "]\n",
    "\n",
    "#Creating rectangle as polygon\n",
    "runway_polygon_10 = Polygon(runway_coordinates_10)"
   ]
  },
  {
   "cell_type": "markdown",
   "metadata": {},
   "source": [
    "##### Runway 32"
   ]
  },
  {
   "cell_type": "code",
   "execution_count": null,
   "metadata": {},
   "outputs": [],
   "source": [
    "# Coordinates of Runway edges\n",
    "runway_coordinates_32 = [\n",
    "    (47.482343, 8.536430),\n",
    "    (47.481882, 8.535696),\n",
    "    (47.461058, 8.564121),\n",
    "    (47.461527, 8.564832)\n",
    "]\n",
    "\n",
    "#Creating rectangle as polygon\n",
    "runway_polygon_32 = Polygon(runway_coordinates_32)"
   ]
  },
  {
   "cell_type": "markdown",
   "metadata": {},
   "source": [
    "##### Runway 34"
   ]
  },
  {
   "cell_type": "code",
   "execution_count": null,
   "metadata": {},
   "outputs": [],
   "source": [
    "# Coordinates of Runway edges\n",
    "runway_coordinates_dep_34 = [\n",
    "    (47.47585447393498, 8.536401636302713),\n",
    "    (47.475571406110106, 8.535504664094239),\n",
    "    (47.445370026120706, 8.556302195884056),\n",
    "    (47.44564496451575, 8.55719874474424)\n",
    "]\n",
    "\n",
    "#Creating rectangle as polygon\n",
    "runway_polygon_dep_34 = Polygon(runway_coordinates_dep_34)"
   ]
  },
  {
   "cell_type": "markdown",
   "metadata": {},
   "source": [
    "##### Creating polygons for the vacated area of all Runways at LSZH"
   ]
  },
  {
   "cell_type": "markdown",
   "metadata": {},
   "source": [
    "##### Runway 10"
   ]
  },
  {
   "cell_type": "code",
   "execution_count": null,
   "metadata": {},
   "outputs": [],
   "source": [
    "# Coordinates of Vacated Polygon edges\n",
    "vacated_coordinates_10 = [\n",
    "    (47.45776460288583, 8.57056862305337),\n",
    "    (47.46008767461235, 8.537712376143574),\n",
    "    (47.45776222821285, 8.53732795301875),\n",
    "    (47.45555693585441, 8.570273050449208),\n",
    "]\n",
    "\n",
    "\n",
    "#Creating rectangle as polygon\n",
    "runway_vacated_polygon_10 = Polygon(vacated_coordinates_10)"
   ]
  },
  {
   "cell_type": "markdown",
   "metadata": {},
   "source": [
    "##### Runway 14"
   ]
  },
  {
   "cell_type": "code",
   "execution_count": null,
   "metadata": {},
   "outputs": [],
   "source": [
    "# Coordinates of Vacated Polygon edges\n",
    "vacated_coordinates_14 = [\n",
    "    (47.482383375839085, 8.536704667668287),\n",
    "    (47.48091837115578, 8.53426271448043),\n",
    "    (47.45869688991013, 8.563109678080252),\n",
    "    (47.46104054317113, 8.567008077240228),\n",
    "]\n",
    "\n",
    "\n",
    "#Creating rectangle as polygon\n",
    "runway_vacated_polygon_14 = Polygon(vacated_coordinates_14)"
   ]
  },
  {
   "cell_type": "markdown",
   "metadata": {},
   "source": [
    "##### Runway 16"
   ]
  },
  {
   "cell_type": "code",
   "execution_count": null,
   "metadata": {},
   "outputs": [],
   "source": [
    "# Coordinates of Vacated Polygon edges\n",
    "vacated_coordinates_16 = [\n",
    "    (47.47740339814996, 8.538037143680414),\n",
    "    (47.4763940907564, 8.533029582414327),\n",
    "    (47.44477424019839, 8.55412239230834),\n",
    "    (47.44625275590675, 8.559161932975567),\n",
    "]\n",
    "\n",
    "\n",
    "#Creating rectangle as polygon\n",
    "runway_vacated_polygon_16 = Polygon(vacated_coordinates_16)"
   ]
  },
  {
   "cell_type": "markdown",
   "metadata": {},
   "source": [
    "##### Runway 28"
   ]
  },
  {
   "cell_type": "code",
   "execution_count": null,
   "metadata": {},
   "outputs": [],
   "source": [
    "# Coordinates of Vacated Polygon edges\n",
    "vacated_coordinates_28 = [\n",
    "    (47.45776460288583, 8.57056862305337),\n",
    "    (47.46008767461235, 8.537712376143574),\n",
    "    (47.45776222821285, 8.53732795301875),\n",
    "    (47.45555693585441, 8.570273050449208),\n",
    "]\n",
    "\n",
    "\n",
    "#Creating rectangle as polygon\n",
    "runway_vacated_polygon_28 = Polygon(vacated_coordinates_28)"
   ]
  },
  {
   "cell_type": "markdown",
   "metadata": {},
   "source": [
    "##### Runway 32"
   ]
  },
  {
   "cell_type": "code",
   "execution_count": null,
   "metadata": {},
   "outputs": [],
   "source": [
    "# Coordinates of Vacated Polygon edges\n",
    "vacated_coordinates_32 = [\n",
    "    (47.482383375839085, 8.536704667668287),\n",
    "    (47.48091837115578, 8.53426271448043),\n",
    "    (47.45869688991013, 8.563109678080252),\n",
    "    (47.46104054317113, 8.567008077240228),\n",
    "]\n",
    "\n",
    "\n",
    "#Creating rectangle as polygon\n",
    "runway_vacated_polygon_32 = Polygon(vacated_coordinates_32)"
   ]
  },
  {
   "cell_type": "markdown",
   "metadata": {},
   "source": [
    "##### Runway 34"
   ]
  },
  {
   "cell_type": "code",
   "execution_count": null,
   "metadata": {},
   "outputs": [],
   "source": [
    "# Coordinates of Runway edges\n",
    "vacated_coordinates_34 = [\n",
    "    (47.47740339814996, 8.538037143680414),\n",
    "    (47.4763940907564, 8.533029582414327),\n",
    "    (47.44477424019839, 8.55412239230834),\n",
    "    (47.44625275590675, 8.559161932975567),\n",
    "]\n",
    "\n",
    "\n",
    "#Creating rectangle as polygon\n",
    "runway_vacated_polygon_34 = Polygon(vacated_coordinates_34)"
   ]
  },
  {
   "cell_type": "markdown",
   "metadata": {},
   "source": [
    "##### Creating Runway End Polygons for all Runway at LSZH"
   ]
  },
  {
   "cell_type": "markdown",
   "metadata": {},
   "source": [
    "##### Runway 10"
   ]
  },
  {
   "cell_type": "code",
   "execution_count": null,
   "metadata": {},
   "outputs": [],
   "source": [
    "# Coordinates of Go-Around Polygon edges\n",
    "rwy_end_coordinates_10 = [\n",
    "    (47.46148751731977, 8.59971679761919),\n",
    "    (47.460227088786795, 8.572533343052678),\n",
    "    (47.45411938930318, 8.571529657185232),\n",
    "    (47.44874611374969, 8.597072087487838),\n",
    "]\n",
    "\n",
    "\n",
    "#Creating rectangle as polygon\n",
    "runway_end_polygon_10 = Polygon(rwy_end_coordinates_10)"
   ]
  },
  {
   "cell_type": "markdown",
   "metadata": {},
   "source": [
    "##### Runway 14"
   ]
  },
  {
   "cell_type": "code",
   "execution_count": null,
   "metadata": {},
   "outputs": [],
   "source": [
    "# Coordinates of Go-Around Polygon edges\n",
    "rwy_end_coordinates_14 = [\n",
    "    (47.461967, 8.566471),\n",
    "    (47.460347, 8.563795),\n",
    "    (47.458375, 8.566194),\n",
    "    (47.460188, 8.568865),\n",
    "]\n",
    "\n",
    "\n",
    "#Creating rectangle as polygon\n",
    "runway_end_polygon_14 = Polygon(rwy_end_coordinates_14)"
   ]
  },
  {
   "cell_type": "markdown",
   "metadata": {},
   "source": [
    "##### Runway 16"
   ]
  },
  {
   "cell_type": "code",
   "execution_count": null,
   "metadata": {},
   "outputs": [],
   "source": [
    "# Coordinates of Go-Around Polygon edges\n",
    "rwy_end_coordinates_16 = [\n",
    "    (47.44520141702879, 8.558613297414626),\n",
    "    (47.44461364335362, 8.555759426776678),\n",
    "    (47.423287251388544, 8.56526483194869),\n",
    "    (47.42753821549068, 8.615097914353424),\n",
    "]\n",
    "\n",
    "\n",
    "#Creating rectangle as polygon\n",
    "runway_end_polygon_16 = Polygon(rwy_end_coordinates_16)"
   ]
  },
  {
   "cell_type": "markdown",
   "metadata": {},
   "source": [
    "##### Runway 28"
   ]
  },
  {
   "cell_type": "code",
   "execution_count": null,
   "metadata": {},
   "outputs": [],
   "source": [
    "# Coordinates of Go-Around Polygon edges\n",
    "rwy_end_coordinates_28 = [\n",
    "    (47.46292957458374, 8.532905101022967),\n",
    "    (47.47354502175972, 8.469275023084766),\n",
    "    (47.44935426660808, 8.467238908246937),\n",
    "    (47.4521457251421, 8.529301410645639),\n",
    "]\n",
    "\n",
    "\n",
    "#Creating rectangle as polygon\n",
    "runway_end_polygon_28 = Polygon(rwy_end_coordinates_28)"
   ]
  },
  {
   "cell_type": "markdown",
   "metadata": {},
   "source": [
    "##### Runway 32"
   ]
  },
  {
   "cell_type": "code",
   "execution_count": null,
   "metadata": {},
   "outputs": [],
   "source": [
    "# Coordinates of Go-Around Polygon edges\n",
    "rwy_end_coordinates_32 = [\n",
    "    (47.51206078888496, 8.52465454416451),\n",
    "    (47.501827520767094, 8.492696049234075),\n",
    "    (47.48173484357998, 8.531900549857157),\n",
    "    (47.486370608636484, 8.537272617311466),\n",
    "]\n",
    "\n",
    "\n",
    "#Creating rectangle as polygon\n",
    "runway_end_polygon_32 = Polygon(rwy_end_coordinates_32)"
   ]
  },
  {
   "cell_type": "markdown",
   "metadata": {},
   "source": [
    "##### Runway 34"
   ]
  },
  {
   "cell_type": "code",
   "execution_count": null,
   "metadata": {},
   "outputs": [],
   "source": [
    "# Coordinates of Go-Around Polygon edges\n",
    "rwy_end_coordinates_34 = [\n",
    "    (47.50101544619973, 8.530959232219672),\n",
    "    (47.49890923290986, 8.512478211967327),\n",
    "    (47.476456999467196, 8.533220648187603),\n",
    "    (47.47721875920997, 8.53682202609175),\n",
    "]\n",
    "\n",
    "\n",
    "#Creating rectangle as polygon\n",
    "runway_end_polygon_34 = Polygon(rwy_end_coordinates_34)"
   ]
  },
  {
   "cell_type": "markdown",
   "metadata": {},
   "source": [
    "##### Creating departure End Polygons"
   ]
  },
  {
   "cell_type": "code",
   "execution_count": null,
   "metadata": {},
   "outputs": [],
   "source": [
    "# Coordinates of Go-Around Polygon edges\n",
    "extra_rwy_end_coordinates_28 = [\n",
    "    (47.45249632457016, 8.553325972675136),\n",
    "    (47.45506244093026, 8.545116396099612),\n",
    "    (47.44469246672567, 8.530091321989694),\n",
    "    (47.436258808740114, 8.54898883788052),\n",
    "]\n",
    "\n",
    "\n",
    "#Creating rectangle as polygon\n",
    "extra_runway_end_polygon_28 = Polygon(extra_rwy_end_coordinates_28)"
   ]
  },
  {
   "cell_type": "markdown",
   "metadata": {},
   "source": [
    "##### RET Polygons"
   ]
  },
  {
   "cell_type": "code",
   "execution_count": null,
   "metadata": {},
   "outputs": [],
   "source": [
    "# Coordinates of RET\n",
    "G_coordinates = [\n",
    "    (47.47900496089672, 8.539611392549546),\n",
    "    (47.47792619841368, 8.537963434384269),\n",
    "    (47.47769562341817, 8.538209379739097),\n",
    "    (47.47874602257377, 8.539969300376018),\n",
    "]\n",
    "\n",
    "\n",
    "#Creating rectangle as polygon\n",
    "G = Polygon(G_coordinates)"
   ]
  },
  {
   "cell_type": "code",
   "execution_count": null,
   "metadata": {},
   "outputs": [],
   "source": [
    "# Coordinates of RET\n",
    "H1_coordinates = [\n",
    "    (47.466040, 8.557257),\n",
    "    (47.467266, 8.555648),\n",
    "    (47.464178, 8.556998),\n",
    "    (47.464282, 8.557709),\n",
    "]\n",
    "\n",
    "\n",
    "#Creating rectangle as polygon\n",
    "H1 = Polygon(H1_coordinates)"
   ]
  },
  {
   "cell_type": "code",
   "execution_count": null,
   "metadata": {},
   "outputs": [],
   "source": [
    "# Coordinates of RET\n",
    "H2_coordinates = [\n",
    "    (47.464202, 8.559839),\n",
    "    (47.465221, 8.558396),\n",
    "    (47.462913, 8.559442),\n",
    "    (47.462692, 8.560185),\n",
    "]\n",
    "\n",
    "\n",
    "#Creating rectangle as polygon\n",
    "H2 = Polygon(H2_coordinates)"
   ]
  },
  {
   "cell_type": "code",
   "execution_count": null,
   "metadata": {},
   "outputs": [],
   "source": [
    "# Coordinates of RET\n",
    "H3_coordinates = [\n",
    "    (47.460924, 8.564330),\n",
    "    (47.461881, 8.562975),\n",
    "    (47.460752, 8.562466),\n",
    "    (47.459968, 8.563603),\n",
    "]\n",
    "\n",
    "\n",
    "#Creating rectangle as polygon\n",
    "H3 = Polygon(H3_coordinates)"
   ]
  },
  {
   "cell_type": "code",
   "execution_count": null,
   "metadata": {},
   "outputs": [],
   "source": [
    "# Coordinates of RET\n",
    "B1_coordinates = [\n",
    "    (47.45756545754382, 8.570671828471193),\n",
    "    (47.45777872852484, 8.569933805965368),\n",
    "    (47.45693270072414, 8.569837471054846),\n",
    "    (47.45687294107219, 8.570501844387083),\n",
    "]\n",
    "\n",
    "\n",
    "#Creating rectangle as polygon\n",
    "B1 = Polygon(B1_coordinates)"
   ]
  },
  {
   "cell_type": "code",
   "execution_count": null,
   "metadata": {},
   "outputs": [],
   "source": [
    "# Coordinates of RET\n",
    "A1_coordinates = [\n",
    "    (47.45632934014095, 8.570418239562354),\n",
    "    (47.45637948657381, 8.569570102208095),\n",
    "    (47.45577451166752, 8.569449347226142),\n",
    "    (47.455724364657705, 8.570725356564049)\n",
    "]\n",
    "\n",
    "\n",
    "#Creating rectangle as polygon\n",
    "A1 = Polygon(A1_coordinates)"
   ]
  },
  {
   "cell_type": "code",
   "execution_count": null,
   "metadata": {},
   "outputs": [],
   "source": [
    "# Coordinates of RET\n",
    "KN_coordinates = [\n",
    "    (47.45792085293085, 8.563414129207736),\n",
    "    (47.45800644045029, 8.562283037806466),\n",
    "    (47.45747082593954, 8.562283037806466),\n",
    "    (47.45741836855496, 8.563214044447221),\n",
    "]\n",
    "\n",
    "\n",
    "#Creating rectangle as polygon\n",
    "KN = Polygon(KN_coordinates)"
   ]
  },
  {
   "cell_type": "code",
   "execution_count": null,
   "metadata": {},
   "outputs": [],
   "source": [
    "# Coordinates of RET\n",
    "KS_coordinates = [\n",
    "    (47.4568330510224, 8.563175252503983),\n",
    "    (47.45691035748411, 8.562195245513713),\n",
    "    (47.45635264403403, 8.56215032852666),\n",
    "    (47.456289141632425, 8.563052751630199),\n",
    "]\n",
    "\n",
    "\n",
    "#Creating rectangle as polygon\n",
    "KS = Polygon(KS_coordinates)"
   ]
  },
  {
   "cell_type": "code",
   "execution_count": null,
   "metadata": {},
   "outputs": [],
   "source": [
    "# Coordinates of RET\n",
    "JN_coordinates = [\n",
    "    (47.45818601284084, 8.559378717169675),\n",
    "    (47.45828108091835, 8.55826684236473),\n",
    "    (47.45776332345507, 8.558223578754731),\n",
    "    (47.45769458126239, 8.559216478629185),\n",
    "]\n",
    "\n",
    "\n",
    "#Creating rectangle as polygon\n",
    "JN = Polygon(JN_coordinates)"
   ]
  },
  {
   "cell_type": "code",
   "execution_count": null,
   "metadata": {},
   "outputs": [],
   "source": [
    "# Coordinates of RET\n",
    "JS_coordinates = [\n",
    "    (47.457122005384264, 8.559137967367773),\n",
    "    (47.457190170145765, 8.558148896668472),\n",
    "    (47.45663379572564, 8.558026284598311),\n",
    "    (47.45654720712422, 8.55918973690851),\n",
    "]\n",
    "\n",
    "\n",
    "#Creating rectangle as polygon\n",
    "JS = Polygon(JS_coordinates)"
   ]
  },
  {
   "cell_type": "code",
   "execution_count": null,
   "metadata": {},
   "outputs": [],
   "source": [
    "# Coordinates of RET\n",
    "FN_coordinates = [\n",
    "    (47.45867085296834, 8.552643892559512),\n",
    "    (47.45879463622604, 8.551488781761993),\n",
    "    (47.458206200754915, 8.551988186099704),\n",
    "    (47.458147578906804, 8.552950544345826),\n",
    "]\n",
    "\n",
    "\n",
    "#Creating rectangle as polygon\n",
    "FN = Polygon(FN_coordinates)"
   ]
  },
  {
   "cell_type": "code",
   "execution_count": null,
   "metadata": {},
   "outputs": [],
   "source": [
    "FS_coordinates = [\n",
    "    (47.45750512236538, 8.553746541065578),\n",
    "    (47.45760213071381, 8.552357287372269),\n",
    "    (47.45702007793867, 8.552493763175892),\n",
    "    (47.456956193705096, 8.553554075188673),\n",
    "]\n",
    "\n",
    "\n",
    "#Creating rectangle as polygon\n",
    "FS = Polygon(FS_coordinates)"
   ]
  },
  {
   "cell_type": "code",
   "execution_count": null,
   "metadata": {},
   "outputs": [],
   "source": [
    "# Coordinates of RET\n",
    "EN_coordinates = [\n",
    "    (47.45876640251088, 8.551198492745044),\n",
    "    (47.45890275119224, 8.549920151173053),\n",
    "    (47.458315756048464, 8.550415764884118),\n",
    "    (47.458246425480624, 8.551441172562187),\n",
    "]\n",
    "\n",
    "\n",
    "#Creating rectangle as polygon\n",
    "EN = Polygon(EN_coordinates)"
   ]
  },
  {
   "cell_type": "code",
   "execution_count": null,
   "metadata": {},
   "outputs": [],
   "source": [
    "# Coordinates of RET\n",
    "ES_coordinates = [\n",
    "    (47.45760131253341, 8.551966860047404),\n",
    "    (47.45769162537079, 8.550921854075147),\n",
    "    (47.45694786797097, 8.551393285340826),  \n",
    "    (47.45709396400481, 8.551982574422928),  \n",
    "]\n",
    "\n",
    "\n",
    "#Creating rectangle as polygon\n",
    "ES = Polygon(ES_coordinates)"
   ]
  },
  {
   "cell_type": "code",
   "execution_count": null,
   "metadata": {},
   "outputs": [],
   "source": [
    "# Coordinates of RET\n",
    "RET34_coordinates = [\n",
    "    (47.459492016042034, 8.547668491560723),  \n",
    "    (47.45948305465726, 8.546578325129305),  \n",
    "    (47.45854210075558, 8.547231099557843),  \n",
    "    (47.45843008131226, 8.548821615931946),  \n",
    "]\n",
    "\n",
    "\n",
    "#Creating rectangle as polygon\n",
    "RET34 = Polygon(RET34_coordinates)"
   ]
  },
  {
   "cell_type": "code",
   "execution_count": null,
   "metadata": {},
   "outputs": [],
   "source": [
    "# Coordinates of RET\n",
    "RET16_coordinates = [\n",
    "    (47.45779036018414, 8.549572124749611),  \n",
    "    (47.457931801108764, 8.547629182176722),  \n",
    "    (47.45681337468931, 8.548404644389631),  \n",
    "    (47.4569133685967, 8.549450425507892),  \n",
    "]\n",
    "\n",
    "\n",
    "#Creating rectangle as polygon\n",
    "RET16 = Polygon(RET16_coordinates)"
   ]
  },
  {
   "cell_type": "code",
   "execution_count": null,
   "metadata": {},
   "outputs": [],
   "source": [
    "# Coordinates of RET\n",
    "B7_coordinates = [\n",
    "    (47.459428835765074, 8.543656448936817),  \n",
    "    (47.45954906355491, 8.542339878695742),  \n",
    "    (47.458883183109705, 8.542391173640201),  \n",
    "    (47.45879532325455, 8.54381033377019),  \n",
    "]\n",
    "\n",
    "\n",
    "#Creating rectangle as polygon\n",
    "B7 = Polygon(B7_coordinates)"
   ]
  },
  {
   "cell_type": "code",
   "execution_count": null,
   "metadata": {},
   "outputs": [],
   "source": [
    "# Coordinates of RET\n",
    "L7_coordinates = [\n",
    "    (47.45802487489487, 8.546156075560166),  \n",
    "    (47.45819483993097, 8.544086259000071),  \n",
    "    (47.457483958741975, 8.541936859026693),  \n",
    "    (47.45726276579127, 8.542510418945927),  \n",
    "]\n",
    "\n",
    "\n",
    "#Creating rectangle as polygon\n",
    "L7 = Polygon(L7_coordinates)"
   ]
  },
  {
   "cell_type": "code",
   "execution_count": null,
   "metadata": {},
   "outputs": [],
   "source": [
    "# Coordinates of RET\n",
    "B9_coordinates = [\n",
    "    (47.459695755684216, 8.538385030745486),  \n",
    "    (47.4599965199352, 8.537735601278188),  \n",
    "    (47.459225305469744, 8.537602384975905),  \n",
    "    (47.4591899210105, 8.538182827430195),  \n",
    "]\n",
    "\n",
    "\n",
    "#Creating rectangle as polygon\n",
    "B9 = Polygon(B9_coordinates)"
   ]
  },
  {
   "cell_type": "code",
   "execution_count": null,
   "metadata": {},
   "outputs": [],
   "source": [
    "# Coordinates of RET\n",
    "L9_coordinates = [\n",
    "    (47.458589114605275, 8.538425914498577),  \n",
    "    (47.458667926314384, 8.53733401660301),  \n",
    "    (47.45769649425433, 8.537243800999553),  \n",
    "    (47.457671539534516, 8.537918209361699),  \n",
    "]\n",
    "\n",
    "\n",
    "#Creating rectangle as polygon\n",
    "L9 = Polygon(L9_coordinates)"
   ]
  },
  {
   "cell_type": "code",
   "execution_count": null,
   "metadata": {},
   "outputs": [],
   "source": [
    "# Coordinates of RET\n",
    "E1_coordinates = [\n",
    "    (47.476784711708326, 8.537128209888078),  \n",
    "    (47.47703506093943, 8.536748549001688),  \n",
    "    (47.47573522165197, 8.53599970768071),  \n",
    "    (47.47585424648102, 8.536393301610623),  \n",
    "]\n",
    "\n",
    "\n",
    "#Creating rectangle as polygon\n",
    "E1 = Polygon(E1_coordinates)"
   ]
  },
  {
   "cell_type": "code",
   "execution_count": null,
   "metadata": {},
   "outputs": [],
   "source": [
    "# Coordinates of RET\n",
    "E2_coordinates = [\n",
    "    (47.47623843379217, 8.53759186425323),  \n",
    "    (47.4758454943537, 8.536401903798348),  \n",
    "    (47.47537301810616, 8.536737258990241),  \n",
    "    (47.47594176110893, 8.537664848352282),  \n",
    "]\n",
    "\n",
    "\n",
    "#Creating rectangle as polygon\n",
    "E2 = Polygon(E2_coordinates)"
   ]
  },
  {
   "cell_type": "code",
   "execution_count": null,
   "metadata": {},
   "outputs": [],
   "source": [
    "# Coordinates of RET\n",
    "E3_coordinates = [\n",
    "    (47.47039445040321, 8.541293882494458),  \n",
    "    (47.47021748472535, 8.540273328418696),  \n",
    "    (47.46971057973998, 8.540606117791228),  \n",
    "    (47.4700765116403, 8.541462495776543),  \n",
    "]\n",
    "\n",
    "\n",
    "#Creating rectangle as polygon\n",
    "E3 = Polygon(E3_coordinates)"
   ]
  },
  {
   "cell_type": "code",
   "execution_count": null,
   "metadata": {},
   "outputs": [],
   "source": [
    "# Coordinates of RET\n",
    "E4_coordinates = [\n",
    "    (47.46489160961231, 8.545610163012801),  \n",
    "    (47.46446586487309, 8.5442543697524216),  \n",
    "    (47.46404507297492, 8.54454043537966),  \n",
    "    (47.46462575303669, 8.545677361848597),  \n",
    "]\n",
    "\n",
    "\n",
    "#Creating rectangle as polygon\n",
    "E4 = Polygon(E4_coordinates)"
   ]
  },
  {
   "cell_type": "code",
   "execution_count": null,
   "metadata": {},
   "outputs": [],
   "source": [
    "# Coordinates of RET\n",
    "E5_coordinates = [\n",
    "    (47.46049003012993, 8.548353272951783),  \n",
    "    (47.46200814316435, 8.545934371171334),  \n",
    "    (47.4605966236558, 8.546897304112772),  \n",
    "    (47.459925078346075, 8.548543511406802),  \n",
    "]\n",
    "\n",
    "\n",
    "#Creating rectangle as polygon\n",
    "E5 = Polygon(E5_coordinates)"
   ]
  },
  {
   "cell_type": "code",
   "execution_count": null,
   "metadata": {},
   "outputs": [],
   "source": [
    "# Coordinates of RET\n",
    "BW_coordinates = [\n",
    "    (47.45948235726516, 8.546575349523982),  \n",
    "    (47.45956998885824, 8.545191546915806),  \n",
    "    (47.459339687121265, 8.545153948884279),  \n",
    "    (47.459234505344924, 8.546748522132432),  \n",
    "]\n",
    "\n",
    "\n",
    "#Creating rectangle as polygon\n",
    "BW = Polygon(BW_coordinates)"
   ]
  },
  {
   "cell_type": "code",
   "execution_count": null,
   "metadata": {},
   "outputs": [],
   "source": [
    "# Coordinates of RET\n",
    "BO_coordinates = [\n",
    "    (47.45938683316601, 8.54919315902424),  \n",
    "    (47.45944831772536, 8.547702942829474),  \n",
    "    (47.45895346414919, 8.548047628662957),  \n",
    "    (47.459020899379205, 8.549367702063828),  \n",
    "]\n",
    "\n",
    "\n",
    "#Creating rectangle as polygon\n",
    "BO = Polygon(BO_coordinates)"
   ]
  },
  {
   "cell_type": "code",
   "execution_count": null,
   "metadata": {},
   "outputs": [],
   "source": [
    "# Coordinates of RET\n",
    "RET28_coordinates = [\n",
    "    (47.458562221857086, 8.547191778865505),  \n",
    "    (47.45866140593849, 8.545606013797736),  \n",
    "    (47.45805363571239, 8.545606013797736),  \n",
    "    (47.45793997060175, 8.547646775950202),  \n",
    "]\n",
    "\n",
    "\n",
    "#Creating rectangle as polygon\n",
    "RET28 = Polygon(RET28_coordinates)"
   ]
  },
  {
   "cell_type": "code",
   "execution_count": null,
   "metadata": {},
   "outputs": [],
   "source": [
    "# Coordinates of RET\n",
    "RET10_coordinates = [\n",
    "    (47.458312751246474, 8.550465977237026),  \n",
    "    (47.45846872752979, 8.548365787332475),  \n",
    "    (47.45748150203258, 8.549057748271517),  \n",
    "    (47.45773066266478, 8.550528779990797),  \n",
    "]\n",
    "\n",
    "\n",
    "#Creating rectangle as polygon\n",
    "RET10 = Polygon(RET10_coordinates)"
   ]
  },
  {
   "cell_type": "code",
   "execution_count": null,
   "metadata": {},
   "outputs": [],
   "source": [
    "# Coordinates of RET\n",
    "E6_coordinates = [\n",
    "    (47.456346509461966, 8.551301052255788),  \n",
    "    (47.45517659975349, 8.550639813446152),  \n",
    "    (47.45474437446953, 8.550927608128692),  \n",
    "    (47.455939806004075, 8.551740855044246),  \n",
    "]\n",
    "\n",
    "\n",
    "#Creating rectangle as polygon\n",
    "E6 = Polygon(E6_coordinates)"
   ]
  },
  {
   "cell_type": "code",
   "execution_count": null,
   "metadata": {},
   "outputs": [],
   "source": [
    "# Coordinates of RET\n",
    "L34_coordinates = [\n",
    "    (47.45472861497266, 8.549837677202353),  \n",
    "    (47.455034051389426, 8.54857080903866),  \n",
    "    (47.45469349087491, 8.548415107557833),  \n",
    "    (47.45429146181007, 8.550144865573472),  \n",
    "]\n",
    "\n",
    "\n",
    "#Creating rectangle as polygon\n",
    "L34 = Polygon(L34_coordinates)"
   ]
  },
  {
   "cell_type": "code",
   "execution_count": null,
   "metadata": {},
   "outputs": [],
   "source": [
    "# Coordinates of RET\n",
    "E7_coordinates = [\n",
    "    (47.45391983044209, 8.55324495783399),  \n",
    "    (47.454633741996005, 8.551001415766288),  \n",
    "    (47.453765707022264, 8.551602890014872),  \n",
    "    (47.45334892028282, 8.553525858979743),  \n",
    "]\n",
    "\n",
    "\n",
    "#Creating rectangle as polygon\n",
    "E7 = Polygon(E7_coordinates)"
   ]
  },
  {
   "cell_type": "code",
   "execution_count": null,
   "metadata": {},
   "outputs": [],
   "source": [
    "# Coordinates of RET\n",
    "R7_coordinates = [\n",
    "    (47.454171001301866, 8.550233814044592),  \n",
    "    (47.45294462600691, 8.549678783107847),  \n",
    "    (47.452774828019734, 8.550229287866989),  \n",
    "    (47.45363687366552, 8.55061560699621),  \n",
    "]\n",
    "\n",
    "\n",
    "#Creating rectangle as polygon\n",
    "R7 = Polygon(R7_coordinates)"
   ]
  },
  {
   "cell_type": "code",
   "execution_count": null,
   "metadata": {},
   "outputs": [],
   "source": [
    "# Coordinates of RET\n",
    "E8_coordinates = [\n",
    "    (47.44955894047596, 8.55589207216645),  \n",
    "    (47.44926025881387, 8.554724298716822),  \n",
    "    (47.448886904351006, 8.554971906840812),  \n",
    "    (47.44928967450742, 8.55597572355969),  \n",
    "]\n",
    "\n",
    "\n",
    "#Creating rectangle as polygon\n",
    "E8 = Polygon(E8_coordinates)"
   ]
  },
  {
   "cell_type": "code",
   "execution_count": null,
   "metadata": {},
   "outputs": [],
   "source": [
    "# Coordinates of RET\n",
    "R8_coordinates = [\n",
    "    (47.44900680609096, 8.553790384315583),  \n",
    "    (47.448588194344346, 8.55284679659984),  \n",
    "    (47.44835739076729, 8.55298733094048),  \n",
    "    (47.44856104103492, 8.554165142557297),  \n",
    "]\n",
    "\n",
    "\n",
    "#Creating rectangle as polygon\n",
    "R8 = Polygon(R8_coordinates)"
   ]
  },
  {
   "cell_type": "code",
   "execution_count": null,
   "metadata": {},
   "outputs": [],
   "source": [
    "# Coordinates of RET\n",
    "E9_coordinates = [\n",
    "    (47.446286251798966, 8.557804793264934),  \n",
    "    (47.44636484072531, 8.556591699571102),  \n",
    "    (47.445623033256204, 8.557124553810448),  \n",
    "    (47.445929724951164, 8.558085392039908),  \n",
    "]\n",
    "\n",
    "\n",
    "#Creating rectangle as polygon\n",
    "E9 = Polygon(E9_coordinates)"
   ]
  },
  {
   "cell_type": "markdown",
   "metadata": {},
   "source": [
    "##### RET Dictionaries for every single runway at LSZH"
   ]
  },
  {
   "cell_type": "code",
   "execution_count": null,
   "metadata": {},
   "outputs": [],
   "source": [
    "# Define polygons  \n",
    "ret_dict_10 = {\"A1\": A1, \"B1\": B1, \"KN\": KN, \"KS\": KS, \"JN\": JN, \"JS\": JS, \"FN\": FN, \"FS\": FS, \"EN\": EN, \"ES\": ES, \"34\": RET34, \"16\": RET16, \"B7\": B7, \"L7\": L7, \"B9\": B9, \"L9\": L9}\n",
    "ret_dict_14 = {\"G\": G, \"H1\": H1, \"H2\": H2, \"H3\": H3}\n",
    "ret_dict_16 = {\"E1\": E1, \"E2\": E2, \"E3\": E3, \"E4\": E4, \"E5\": E5, \"BW\": BW, \"BO\": BO, \"28\": RET28, \"10\": RET10, \"E6\": E6, \"L\": L34, \"E7\": E7, \"R7\": R7, \"E8\": E8, \"R8\": R8, \"E9\": E9}\n",
    "ret_dict_28 = {\"A1\": A1, \"B1\": B1, \"KN\": KN, \"KS\": KS, \"JN\": JN, \"JS\": JS, \"FN\": FN, \"FS\": FS, \"EN\": EN, \"ES\": ES, \"34\": RET34, \"16\": RET16, \"B7\": B7, \"L7\": L7, \"B9\": B9, \"L9\": L9}\n",
    "ret_dict_32 = {\"G\": G, \"H1\": H1, \"H2\": H2, \"H3\": H3}\n",
    "ret_dict_34 = {\"E1\": E1, \"E2\": E2, \"E3\": E3, \"E4\": E4, \"E5\": E5, \"BW\": BW, \"BO\": BO, \"28\": RET28, \"10\": RET10, \"E6\": E6, \"L\": L34, \"E7\": E7, \"R7\": R7, \"E8\": E8, \"R8\": R8, \"E9\": E9}"
   ]
  },
  {
   "cell_type": "markdown",
   "metadata": {},
   "source": [
    "##### Function to determine in which RET a Point lies"
   ]
  },
  {
   "cell_type": "code",
   "execution_count": null,
   "metadata": {},
   "outputs": [],
   "source": [
    "# Function to determine which polygon a point belongs to  \n",
    "def find_polygon(lat, lon, ret_dict):\n",
    "    point = Point(lat, lon)  # Shapely expects (longitude, latitude) as (x, y)\n",
    "    for name, polygon in ret_dict.items():\n",
    "        if polygon.contains(point) or polygon.boundary.contains(point):  # Check if point is inside or on the boundary\n",
    "            return name\n",
    "    return \"Outside\"  # Return \"Outside\" if the point is not in any polygon\n"
   ]
  },
  {
   "cell_type": "markdown",
   "metadata": {},
   "source": [
    "##### Define Import Geometry Bounds"
   ]
  },
  {
   "cell_type": "code",
   "execution_count": null,
   "metadata": {},
   "outputs": [],
   "source": [
    "# Coordinates of Import Polygon\n",
    "import_coordinates = [\n",
    "    (9.3629975008778, 47.572540686883436),  \n",
    "    (8.11652924277223, 48.039507633659085),  \n",
    "    (7.467456560886543, 47.47109868425854),\n",
    "    (8.445791459475736, 47.29062332727335),  \n",
    "]\n",
    "\n",
    "#Creating rectangle as polygon\n",
    "Import_Polygon = Polygon(import_coordinates)"
   ]
  },
  {
   "cell_type": "markdown",
   "metadata": {},
   "source": [
    "#### Gate Region Coordinates"
   ]
  },
  {
   "cell_type": "code",
   "execution_count": null,
   "metadata": {},
   "outputs": [],
   "source": [
    "# Coordinates of gate edges\n",
    "gate_coordinates_North = [\n",
    "    (47.46222690988436, 8.559511063245429), #RWY 14 right\n",
    "    (47.4677137606189, 8.545262706862454), #RWY 14 left\n",
    "    (47.46039783236904, 8.550989103256876), #RWY 32 left\n",
    "    (47.459544241084316, 8.559691422186987)  #RWY 32 right\n",
    "]\n",
    " \n",
    "#Creating rectangle as polygon\n",
    "gate_polygon_North = Polygon(gate_coordinates_North)\n",
    " \n",
    "# Coordinates of gate edges\n",
    "gate_coordinates_East = [\n",
    "    (47.45860892612085, 8.576476605347214), #RWY 14 right\n",
    "    (47.4595824620173, 8.565050900074354), #RWY 14 left\n",
    "    (47.454039744220424, 8.56344260504518), #RWY 32 left\n",
    "    (47.453085179118666, 8.576320702453943)  #RWY 32 right\n",
    "]\n",
    " \n",
    "#Creating rectangle as polygon\n",
    "gate_polygon_East = Polygon(gate_coordinates_East)\n",
    " \n",
    "# Coordinates of gate edges\n",
    "gate_coordinates_South = [\n",
    "    (47.45596248073526, 8.56432081618345), #RWY 14 right\n",
    "    (47.457155456631696, 8.550783852563612), #RWY 14 left\n",
    "    (47.43975178123579, 8.560427038086573), #RWY 32 left\n",
    "    (47.44306209954342, 8.570948773913384)  #RWY 32 right\n",
    "]\n",
    " \n",
    "#Creating rectangle as polygon\n",
    "gate_polygon_South = Polygon(gate_coordinates_South)\n",
    " \n",
    "# Coordinates of gate edges\n",
    "gate_coordinates_West = [\n",
    "    (47.457906230675164, 8.547819449164445), #RWY 14 right\n",
    "    (47.458555814138954, 8.537937541532848), #RWY 14 left\n",
    "    (47.443891833614515, 8.54946643376971), #RWY 32 left\n",
    "    (47.445562620043646, 8.55619162090788)  #RWY 32 right\n",
    "]\n",
    " \n",
    "#Creating rectangle as polygon\n",
    "gate_polygon_West = Polygon(gate_coordinates_West)\n",
    "\n",
    "# Gate polygons already defined\n",
    "gate_polygons = {\n",
    "    \"North\": gate_polygon_North,\n",
    "    \"East\": gate_polygon_East,\n",
    "    \"South\": gate_polygon_South,\n",
    "    \"West\": gate_polygon_West\n",
    "}"
   ]
  },
  {
   "cell_type": "markdown",
   "metadata": {},
   "source": [
    "##### Import Flightdata and Import Flightlist"
   ]
  },
  {
   "cell_type": "code",
   "execution_count": null,
   "metadata": {},
   "outputs": [],
   "source": [
    "timestamps = pd.date_range(start, stop, freq=\"24h\")\n",
    "data = []\n",
    "for t1, t2 in zip(timestamps[:-1], timestamps[1:]):\n",
    "        print(t1, t2)\n",
    "        flight_list = opensky.flightlist(start=t1, stop=t2, arrival_airport=airport_str)\n",
    "        icao24 = flight_list.icao24\n",
    "        tmp = opensky.history(start=str(t1), stop=str(t2), bounds=Import_Polygon, icao24=icao24, return_flight=True)\n",
    "        if tmp is not None:\n",
    "            data.append(tmp.data)\n",
    "        \n",
    " \n",
    "trajs = pd.concat(data)\n",
    "trajs = Traffic(trajs)"
   ]
  },
  {
   "cell_type": "code",
   "execution_count": null,
   "metadata": {},
   "outputs": [],
   "source": [
    "def convert_timestamp(x):\n",
    "    if isinstance(x, (float, int)) and x > 1e9:  # Convert to unix timestamps if float or int.\n",
    "        return pd.to_datetime(x, unit='s', errors='coerce')\n",
    "    elif isinstance(x, pd.Timestamp): # If x is alreardy a pandas timestamp, x will be returned\n",
    "        return x\n",
    "    else:\n",
    "        return pd.NaT  # Invalid Value will be converted to Not a Timestamp\n",
    "\n",
    "# Make sure data format is \"correct\"\n",
    "trajs.data['timestamp'] = trajs.data['timestamp'].apply(convert_timestamp)\n",
    "trajs.data['hour'] = trajs.data['hour'].apply(convert_timestamp)\n",
    "trajs.data['onground'] = trajs.data['onground'].astype(np.bool_)\n",
    "trajs.data['alert'] = trajs.data['alert'].astype(np.bool_)\n",
    "trajs.data['spi'] = trajs.data['spi'].astype(np.bool_)\n",
    "trajs.data['last_position'] = trajs.data['last_position'].astype(np.float64)\n",
    "\n",
    "trajs.data['latitude'] = trajs.data['latitude'].astype('double')\n",
    "trajs.data['longitude'] = trajs.data['longitude'].astype('double')\n",
    "trajs.data['groundspeed'] = trajs.data['groundspeed'].astype('double')\n",
    "trajs.data['track'] = trajs.data['track'].astype('double')\n",
    "trajs.data['vertical_rate'] = trajs.data['vertical_rate'].astype('double')\n",
    "trajs.data['altitude'] = trajs.data['altitude'].astype('double')\n",
    "trajs.data['geoaltitude'] = trajs.data['geoaltitude'].astype('double')\n",
    "trajs.data['lastcontact'] = trajs.data['lastcontact'].astype('double')\n",
    "\n",
    "trajs.data['icao24'] = trajs.data['icao24'].astype('object')\n",
    "trajs.data['callsign'] = trajs.data['callsign'].astype('object')\n",
    "trajs.data['squawk'] = trajs.data['squawk'].astype('object')"
   ]
  },
  {
   "cell_type": "markdown",
   "metadata": {},
   "source": [
    "##### Assign ID"
   ]
  },
  {
   "cell_type": "code",
   "execution_count": null,
   "metadata": {},
   "outputs": [],
   "source": [
    "trajs = trajs.assign_id().eval(max_workers=1, desc='Assign Flight ID')"
   ]
  },
  {
   "cell_type": "markdown",
   "metadata": {},
   "source": [
    "##### Drop duplicates"
   ]
  },
  {
   "cell_type": "code",
   "execution_count": null,
   "metadata": {},
   "outputs": [],
   "source": [
    "trajs.data = trajs.data.drop_duplicates(\n",
    "    subset=[\"flight_id\", \"last_position\"])"
   ]
  },
  {
   "cell_type": "markdown",
   "metadata": {},
   "source": [
    "##### Remove all data above 8000ft to get only relevant datapoints"
   ]
  },
  {
   "cell_type": "code",
   "execution_count": null,
   "metadata": {},
   "outputs": [],
   "source": [
    "trajs_relevant = trajs.query('geoaltitude < 8000 or onground or geoaltitude.isna()')"
   ]
  },
  {
   "cell_type": "markdown",
   "metadata": {},
   "source": [
    "##### Resample Data"
   ]
  },
  {
   "cell_type": "code",
   "execution_count": null,
   "metadata": {},
   "outputs": [],
   "source": [
    "trajs_relevant = trajs_relevant.resample('1s').eval(max_workers=40, desc='Resample Flights')"
   ]
  },
  {
   "cell_type": "markdown",
   "metadata": {},
   "source": [
    "##### Get a List of all Flight IDs"
   ]
  },
  {
   "cell_type": "code",
   "execution_count": null,
   "metadata": {},
   "outputs": [],
   "source": [
    "all_flight_ids = trajs_relevant.flight_ids"
   ]
  },
  {
   "cell_type": "markdown",
   "metadata": {},
   "source": [
    "#### Get a List with all Go Arounds"
   ]
  },
  {
   "cell_type": "code",
   "execution_count": null,
   "metadata": {},
   "outputs": [],
   "source": [
    "def has_go_around(flight):\n",
    "    if flight.go_around('LSZH').has() == True:\n",
    "        return flight\n",
    "    \n",
    "go_around = trajs_relevant.iterate_lazy().pipe(has_go_around).eval(max_workers=40, desc='Processing')\n",
    "if go_around:\n",
    "    go_around_ids = go_around.flight_ids"
   ]
  },
  {
   "cell_type": "markdown",
   "metadata": {},
   "source": [
    "#### Filter all departure flights"
   ]
  },
  {
   "cell_type": "code",
   "execution_count": null,
   "metadata": {},
   "outputs": [],
   "source": [
    "def departure_rwy(flight):\n",
    "    x = flight.takeoff('LSZH', method=\"track_based\")\n",
    "\n",
    "    if x is not None:\n",
    "        x_next = x.next()\n",
    "        if x_next is not None:\n",
    "            rwy = x_next.max('runway')\n",
    "            if rwy == '14':\n",
    "                track = x_next.data['track'].median()\n",
    "                if track >= 145:\n",
    "                    return {\n",
    "                        'Flight ID': flight.flight_id,\n",
    "                        'Runway': '16'\n",
    "                    }\n",
    "            else:\n",
    "                return {\n",
    "                    'Flight ID': flight.flight_id,\n",
    "                    'Runway': rwy,\n",
    "        }\n",
    "        \n",
    "departures = trajs.iterate_lazy().pipe(departure_rwy).eval(max_workers=40, desc= 'Processing Flights')"
   ]
  },
  {
   "cell_type": "markdown",
   "metadata": {},
   "source": [
    "#### Remove Go Arounds from departures and create trajs_remaining"
   ]
  },
  {
   "cell_type": "code",
   "execution_count": null,
   "metadata": {},
   "outputs": [],
   "source": [
    "if 'go_around_ids' in locals():\n",
    "    if go_around_ids:\n",
    "        departures = departures[~departures['Flight ID'].isin(go_around_ids)]\n",
    "departures_ids = departures['Flight ID'].unique()"
   ]
  },
  {
   "cell_type": "markdown",
   "metadata": {},
   "source": [
    "#### Filter all Arrivals"
   ]
  },
  {
   "cell_type": "code",
   "execution_count": null,
   "metadata": {},
   "outputs": [],
   "source": [
    "def arrival_rwy(flight):\n",
    "    x = flight.aligned_on_ils('LSZH')\n",
    "    if x is not None:\n",
    "        x_next = x.max()\n",
    "        if x_next is not None:\n",
    "            rwy = x_next.max('ILS')\n",
    "            on_ground = x_next.data['onground'].median()\n",
    "            if on_ground == 0:\n",
    "                vertical_rate = x_next.data['vertical_rate'].median()\n",
    "                if vertical_rate < -200:\n",
    "                    return {\n",
    "                        'Flight ID': flight.flight_id,\n",
    "                        'Runway': rwy,\n",
    "                        'Vertical Rate': vertical_rate\n",
    "    }\n",
    "        \n",
    "arrivals = trajs.iterate_lazy().pipe(arrival_rwy).eval(max_workers=40, desc= 'Processing Flights')"
   ]
  },
  {
   "cell_type": "markdown",
   "metadata": {},
   "source": [
    "#### Create trajs for each departure runway"
   ]
  },
  {
   "cell_type": "code",
   "execution_count": null,
   "metadata": {},
   "outputs": [],
   "source": [
    "flight_ids_dep_10 = departures.loc[departures[\"Runway\"] == \"10\", \"Flight ID\"].tolist()\n",
    "flight_ids_dep_16 = departures.loc[departures[\"Runway\"] == \"16\", \"Flight ID\"].tolist()\n",
    "flight_ids_dep_28 = departures.loc[departures[\"Runway\"] == \"28\", \"Flight ID\"].tolist()\n",
    "flight_ids_dep_32 = departures.loc[departures[\"Runway\"] == \"32\", \"Flight ID\"].tolist()\n",
    "flight_ids_dep_34 = departures.loc[departures[\"Runway\"] == \"34\", \"Flight ID\"].tolist()"
   ]
  },
  {
   "cell_type": "code",
   "execution_count": null,
   "metadata": {},
   "outputs": [],
   "source": [
    "trajs_dep_10 = trajs_relevant[flight_ids_dep_10]\n",
    "trajs_dep_16 = trajs_relevant[flight_ids_dep_16]\n",
    "trajs_dep_28 = trajs_relevant[flight_ids_dep_28]\n",
    "trajs_dep_32 = trajs_relevant[flight_ids_dep_32]\n",
    "trajs_dep_34 = trajs_relevant[flight_ids_dep_34]"
   ]
  },
  {
   "cell_type": "markdown",
   "metadata": {},
   "source": [
    "#### Create trajs for each arrival runway"
   ]
  },
  {
   "cell_type": "code",
   "execution_count": null,
   "metadata": {},
   "outputs": [],
   "source": [
    "flight_ids_arr_14 = arrivals.loc[arrivals[\"Runway\"] == \"14\", \"Flight ID\"].tolist()\n",
    "flight_ids_arr_16 = arrivals.loc[arrivals[\"Runway\"] == \"16\", \"Flight ID\"].tolist()\n",
    "flight_ids_arr_28 = arrivals.loc[arrivals[\"Runway\"] == \"28\", \"Flight ID\"].tolist()\n",
    "flight_ids_arr_34 = arrivals.loc[arrivals[\"Runway\"] == \"34\", \"Flight ID\"].tolist()"
   ]
  },
  {
   "cell_type": "code",
   "execution_count": null,
   "metadata": {},
   "outputs": [],
   "source": [
    "trajs_arr_14 = trajs_relevant[flight_ids_arr_14]\n",
    "trajs_arr_16 = trajs_relevant[flight_ids_arr_16]\n",
    "trajs_arr_28 = trajs_relevant[flight_ids_arr_28]\n",
    "trajs_arr_34 = trajs_relevant[flight_ids_arr_34]"
   ]
  },
  {
   "cell_type": "markdown",
   "metadata": {},
   "source": [
    "##### Filter data just for points which are within the polygon of the corresponding runway"
   ]
  },
  {
   "cell_type": "markdown",
   "metadata": {},
   "source": [
    "##### departures Runway 10"
   ]
  },
  {
   "cell_type": "code",
   "execution_count": null,
   "metadata": {},
   "outputs": [],
   "source": [
    "# Function that checks if a point is within one of the polygons\n",
    "def point_in_polygons(row):\n",
    "    point = Point(row['latitude'], row['longitude'])\n",
    "    in_runway = runway_polygon_10.contains(point) or runway_polygon_10.intersects(point)\n",
    "    in_vacated = runway_vacated_polygon_10.contains(point) or runway_vacated_polygon_10.intersects(point)\n",
    "    in_end = runway_end_polygon_10.contains(point) or runway_end_polygon_10.intersects(point)\n",
    "    return in_runway or in_vacated or in_end\n",
    "\n",
    "def flight_in_polygons(flight):\n",
    "    flight.data = flight.data.loc[flight.data.apply(point_in_polygons, axis=1)]\n",
    "    return flight\n",
    "\n",
    "\n",
    "# Filter the DataFrame using the apply method with lazy execution\n",
    "trajs_dep_10 = trajs_dep_10.iterate_lazy().pipe(flight_in_polygons).eval(max_workers=40, desc= 'Processing')"
   ]
  },
  {
   "cell_type": "markdown",
   "metadata": {},
   "source": [
    "##### departures Runway 16"
   ]
  },
  {
   "cell_type": "code",
   "execution_count": null,
   "metadata": {},
   "outputs": [],
   "source": [
    "# Function that checks if a point is within one of the polygons\n",
    "def point_in_polygons(row):\n",
    "    point = Point(row['latitude'], row['longitude'])\n",
    "    in_runway = runway_polygon_16.contains(point) or runway_polygon_16.intersects(point)\n",
    "    in_vacated = runway_vacated_polygon_16.contains(point) or runway_vacated_polygon_16.intersects(point)\n",
    "    in_end = runway_end_polygon_16.contains(point) or runway_end_polygon_16.intersects(point)\n",
    "    return in_runway or in_vacated or in_end\n",
    "\n",
    "def flight_in_polygons(flight):\n",
    "    flight.data = flight.data.loc[flight.data.apply(point_in_polygons, axis=1)]\n",
    "    return flight\n",
    "\n",
    "\n",
    "# Filter the DataFrame using the apply method with lazy execution\n",
    "trajs_dep_16 = trajs_dep_16.iterate_lazy().pipe(flight_in_polygons).eval(max_workers=40, desc= 'Processing')"
   ]
  },
  {
   "cell_type": "markdown",
   "metadata": {},
   "source": [
    "##### departures Runway 28"
   ]
  },
  {
   "cell_type": "code",
   "execution_count": null,
   "metadata": {},
   "outputs": [],
   "source": [
    "# Function that checks if a point is within one of the polygons\n",
    "def point_in_polygons(row):\n",
    "    point = Point(row['latitude'], row['longitude'])\n",
    "    in_runway = runway_polygon_28.contains(point) or runway_polygon_28.intersects(point)\n",
    "    in_vacated = runway_vacated_polygon_28.contains(point) or runway_vacated_polygon_28.intersects(point)\n",
    "    in_end = runway_end_polygon_28.contains(point) or runway_end_polygon_28.intersects(point)\n",
    "    in_extra = extra_runway_end_polygon_28.contains(point) or extra_runway_end_polygon_28.intersects(point)\n",
    "    return in_runway or in_vacated or in_end or in_extra\n",
    "\n",
    "def flight_in_polygons(flight):\n",
    "    flight.data = flight.data.loc[flight.data.apply(point_in_polygons, axis=1)]\n",
    "    return flight\n",
    "\n",
    "\n",
    "# Filter the DataFrame using the apply method with lazy execution\n",
    "trajs_dep_28 = trajs_dep_28.iterate_lazy().pipe(flight_in_polygons).eval(max_workers=40, desc= 'Processing')"
   ]
  },
  {
   "cell_type": "markdown",
   "metadata": {},
   "source": [
    "##### departures Runway 32"
   ]
  },
  {
   "cell_type": "code",
   "execution_count": null,
   "metadata": {},
   "outputs": [],
   "source": [
    "# Function that checks if a point is within one of the polygons\n",
    "def point_in_polygons(row):\n",
    "    point = Point(row['latitude'], row['longitude'])\n",
    "    in_runway = runway_polygon_32.contains(point) or runway_polygon_32.intersects(point)\n",
    "    in_vacated = runway_vacated_polygon_32.contains(point) or runway_vacated_polygon_32.intersects(point)\n",
    "    in_end = runway_end_polygon_32.contains(point) or runway_end_polygon_32.intersects(point)\n",
    "    return in_runway or in_vacated or in_end\n",
    "\n",
    "def flight_in_polygons(flight):\n",
    "    flight.data = flight.data.loc[flight.data.apply(point_in_polygons, axis=1)]\n",
    "    return flight\n",
    "\n",
    "\n",
    "# Filter the DataFrame using the apply method with lazy execution\n",
    "trajs_dep_32 = trajs_dep_32.iterate_lazy().pipe(flight_in_polygons).eval(max_workers=40, desc= 'Processing')"
   ]
  },
  {
   "cell_type": "markdown",
   "metadata": {},
   "source": [
    "##### departures Runway 34"
   ]
  },
  {
   "cell_type": "code",
   "execution_count": null,
   "metadata": {},
   "outputs": [],
   "source": [
    "# Function that checks if a point is within one of the polygons\n",
    "def point_in_polygons(row):\n",
    "    point = Point(row['latitude'], row['longitude'])\n",
    "    in_runway = runway_polygon_dep_34.contains(point) or runway_polygon_dep_34.intersects(point)\n",
    "    in_vacated = runway_vacated_polygon_34.contains(point) or runway_vacated_polygon_34.intersects(point)\n",
    "    in_end = runway_end_polygon_34.contains(point) or runway_end_polygon_34.intersects(point)\n",
    "    return in_runway or in_vacated or in_end\n",
    "\n",
    "def flight_in_polygons(flight):\n",
    "    flight.data = flight.data.loc[flight.data.apply(point_in_polygons, axis=1)]\n",
    "    return flight\n",
    "\n",
    "\n",
    "# Filter the DataFrame using the apply method with lazy execution\n",
    "trajs_dep_34 = trajs_dep_34.iterate_lazy().pipe(flight_in_polygons).eval(max_workers=40, desc= 'Processing')"
   ]
  },
  {
   "cell_type": "markdown",
   "metadata": {},
   "source": [
    "##### Arrival Runway 14"
   ]
  },
  {
   "cell_type": "code",
   "execution_count": null,
   "metadata": {},
   "outputs": [],
   "source": [
    "# Function that checks if a point is within one of the polygons\n",
    "def point_in_polygons(row):\n",
    "    point = Point(row['latitude'], row['longitude'])\n",
    "    in_runway = runway_polygon_14.contains(point) or runway_polygon_14.intersects(point)\n",
    "    in_vacated = runway_vacated_polygon_14.contains(point) or runway_vacated_polygon_14.intersects(point)\n",
    "    in_end = runway_end_polygon_14.contains(point) or runway_end_polygon_14.intersects(point)\n",
    "    return in_runway or in_vacated or in_end\n",
    "\n",
    "def flight_in_polygons(flight):\n",
    "    flight.data = flight.data.loc[flight.data.apply(point_in_polygons, axis=1)]\n",
    "    return flight\n",
    "\n",
    "\n",
    "# Filter the DataFrame using the apply method with lazy execution\n",
    "trajs_arr_14 = trajs_arr_14.iterate_lazy().pipe(flight_in_polygons).eval(max_workers=40, desc= 'Processing')"
   ]
  },
  {
   "cell_type": "markdown",
   "metadata": {},
   "source": [
    "##### Arrival Runway 16"
   ]
  },
  {
   "cell_type": "code",
   "execution_count": null,
   "metadata": {},
   "outputs": [],
   "source": [
    "# Function that checks if a point is within one of the polygons\n",
    "def point_in_polygons(row):\n",
    "    point = Point(row['latitude'], row['longitude'])\n",
    "    in_runway = runway_polygon_16.contains(point) or runway_polygon_16.intersects(point)\n",
    "    in_vacated = runway_vacated_polygon_16.contains(point) or runway_vacated_polygon_16.intersects(point)\n",
    "    in_end = runway_end_polygon_16.contains(point) or runway_end_polygon_16.intersects(point)\n",
    "    return in_runway or in_vacated or in_end\n",
    "\n",
    "def flight_in_polygons(flight):\n",
    "    flight.data = flight.data.loc[flight.data.apply(point_in_polygons, axis=1)]\n",
    "    return flight\n",
    "\n",
    "\n",
    "# Filter the DataFrame using the apply method with lazy execution\n",
    "trajs_arr_16 = trajs_arr_16.iterate_lazy().pipe(flight_in_polygons).eval(max_workers=40, desc= 'Processing')"
   ]
  },
  {
   "cell_type": "markdown",
   "metadata": {},
   "source": [
    "##### Arrival Runway 28"
   ]
  },
  {
   "cell_type": "code",
   "execution_count": null,
   "metadata": {},
   "outputs": [],
   "source": [
    "# Function that checks if a point is within one of the polygons\n",
    "def point_in_polygons(row):\n",
    "    point = Point(row['latitude'], row['longitude'])\n",
    "    in_runway = runway_polygon_28.contains(point) or runway_polygon_28.intersects(point)\n",
    "    in_vacated = runway_vacated_polygon_28.contains(point) or runway_vacated_polygon_28.intersects(point)\n",
    "    in_end = runway_end_polygon_28.contains(point) or runway_end_polygon_28.intersects(point)\n",
    "    return in_runway or in_vacated or in_end\n",
    "\n",
    "def flight_in_polygons(flight):\n",
    "    flight.data = flight.data.loc[flight.data.apply(point_in_polygons, axis=1)]\n",
    "    return flight\n",
    "\n",
    "\n",
    "# Filter the DataFrame using the apply method with lazy execution\n",
    "trajs_arr_28 = trajs_arr_28.iterate_lazy().pipe(flight_in_polygons).eval(max_workers=40, desc= 'Processing')"
   ]
  },
  {
   "cell_type": "markdown",
   "metadata": {},
   "source": [
    "##### Arrival Runway 34"
   ]
  },
  {
   "cell_type": "code",
   "execution_count": null,
   "metadata": {},
   "outputs": [],
   "source": [
    "# Function that checks if a point is within one of the polygons\n",
    "def point_in_polygons(row):\n",
    "    point = Point(row['latitude'], row['longitude'])\n",
    "    in_runway = runway_polygon_34.contains(point) or runway_polygon_34.intersects(point)\n",
    "    in_vacated = runway_vacated_polygon_34.contains(point) or runway_vacated_polygon_34.intersects(point)\n",
    "    in_end = runway_end_polygon_34.contains(point) or runway_end_polygon_34.intersects(point)\n",
    "    return in_runway or in_vacated or in_end\n",
    "\n",
    "def flight_in_polygons(flight):\n",
    "    flight.data = flight.data.loc[flight.data.apply(point_in_polygons, axis=1)]\n",
    "    return flight\n",
    "\n",
    "\n",
    "# Filter the DataFrame using the apply method with lazy execution\n",
    "trajs_arr_34 = trajs_arr_34.iterate_lazy().pipe(flight_in_polygons).eval(max_workers=40, desc= 'Processing')"
   ]
  },
  {
   "cell_type": "markdown",
   "metadata": {},
   "source": [
    "##### Define general Function to determine ROT of departure Flights and further features"
   ]
  },
  {
   "cell_type": "code",
   "execution_count": null,
   "metadata": {},
   "outputs": [],
   "source": [
    "# Define the processing function for each departure flight\n",
    "def process_flight_dep(flight, rwy, runway_polygon, entry_polygon, end_polygon, dict_ret,\n",
    "                       altitude_threshold_runway, altitude_threshold_end, time_th, required_end_points, required_entry_points,\n",
    "                       extra_end_polygon=None):\n",
    "\n",
    "    # Initialize variables (do not change)\n",
    "    points_inside = []\n",
    "    points_entry = []\n",
    "    points_indside_end = []\n",
    "    end_points_count = 0\n",
    "    last_valid_altitude = 0\n",
    "    has_no_end_data = True\n",
    "    timestamp_time = None\n",
    "\n",
    "    flight = flight.sort_values(by='timestamp')\n",
    "\n",
    "    # Iterate through flight data to collect position and altitude\n",
    "    for _, row in flight.data.iterrows():\n",
    "        lat = row['latitude']\n",
    "        lon = row['longitude']\n",
    "        alt = row['geoaltitude']\n",
    "\n",
    "        if np.isnan(alt) and last_valid_altitude is not None:\n",
    "            alt = last_valid_altitude\n",
    "\n",
    "        point = Point(lat, lon)\n",
    "\n",
    "        if (runway_polygon.contains(point) or runway_polygon.intersects(point)) and alt <= altitude_threshold_runway:\n",
    "            points_inside.append(row)\n",
    "            if not np.isnan(alt):\n",
    "                last_valid_altitude = alt\n",
    "\n",
    "        if ((entry_polygon.contains(point) or entry_polygon.intersects(point)) and not (runway_polygon.contains(point) or runway_polygon.intersects(point)) and not (points_inside)):\n",
    "            points_entry.append(row)\n",
    "\n",
    "        if extra_end_polygon is None:\n",
    "            if (end_polygon.contains(point) or end_polygon.intersects(point)) and alt > altitude_threshold_end:\n",
    "                points_indside_end.append(row)\n",
    "                end_points_count += 1\n",
    "        else:\n",
    "            if (end_polygon.contains(point) or end_polygon.intersects(point) or extra_end_polygon.contains(point) or extra_end_polygon.intersects(point)) and alt > altitude_threshold_end:\n",
    "                points_indside_end.append(row)\n",
    "                end_points_count += 1\n",
    "\n",
    "        if end_points_count >= required_end_points:\n",
    "            break\n",
    "\n",
    "    flight_data_rwy = pd.DataFrame(points_inside)\n",
    "    flight_rwy_end_data = pd.DataFrame(points_indside_end)\n",
    "    entry_points = pd.DataFrame(points_entry)\n",
    "\n",
    "    if not flight_rwy_end_data.empty:\n",
    "        has_no_end_data = False\n",
    "        if not flight_data_rwy.empty:\n",
    "            last_end_point_time = pd.to_datetime(flight_rwy_end_data['timestamp'].max())\n",
    "            flight_data_rwy = flight_data_rwy[flight_data_rwy[\"timestamp\"] <= last_end_point_time]\n",
    "\n",
    "    if not flight_data_rwy.empty:\n",
    "        first_timestamp = pd.to_datetime(flight_data_rwy['timestamp'].min())\n",
    "        last_timestamp = pd.to_datetime(flight_data_rwy['timestamp'].max())\n",
    "        rot = (last_timestamp - first_timestamp).total_seconds()\n",
    "\n",
    "        flight_data_rwy = flight_data_rwy.sort_values(by='timestamp').reset_index(drop=True)\n",
    "        flight_data_rwy['time_diff'] = flight_data_rwy['timestamp'].diff().dt.total_seconds()\n",
    "        gap_index = flight_data_rwy[flight_data_rwy['time_diff'] > time_th].index\n",
    "        flight_data_rwy = flight_data_rwy.drop(columns=['time_diff'])\n",
    "\n",
    "        # Handle gaps in trajectory (possible aborted takeoff)\n",
    "        while not gap_index.empty:\n",
    "            first_gap_index = gap_index[0]\n",
    "            if first_gap_index > 0 and first_gap_index - 1 < len(flight_data_rwy):\n",
    "                timestamp_time = flight_data_rwy[\"timestamp\"].loc[first_gap_index - 1]\n",
    "            else:\n",
    "                timestamp_time = None\n",
    "\n",
    "            flight_data_rwy = flight_data_rwy.loc[first_gap_index:]\n",
    "\n",
    "            if flight_data_rwy.empty:\n",
    "                return {\n",
    "                    'Event': 'Aborted Takeoff',\n",
    "                    'Runway': str(rwy),\n",
    "                    'Flight (Callsign)': flight.callsign,\n",
    "                    'Flight ID': flight.flight_id,\n",
    "                    'A/C Type': flight.typecode,\n",
    "                    'ICAO 24': flight.icao24,\n",
    "                    'Entry Time': first_timestamp,\n",
    "                    'Not Vacated': has_no_end_data,\n",
    "                    'ROT [s]': rot,\n",
    "                }\n",
    "\n",
    "            first_timestamp = pd.to_datetime(flight_data_rwy['timestamp'].min())\n",
    "            last_timestamp = pd.to_datetime(flight_data_rwy['timestamp'].max())\n",
    "            rot = (last_timestamp - first_timestamp).total_seconds()\n",
    "            gap_index = gap_index[1:]\n",
    "\n",
    "        if not flight_data_rwy.empty:\n",
    "            entry_time = flight_data_rwy['timestamp'].iloc[0]\n",
    "\n",
    "        if not entry_points.empty and timestamp_time is not None:\n",
    "            entry_points = entry_points.loc[entry_points[\"timestamp\"] > timestamp_time]\n",
    "\n",
    "        # Fallback if entry points not found\n",
    "        if entry_points.empty:\n",
    "            points_entry = []\n",
    "            for _, row in flight.data[flight.data[\"timestamp\"] < entry_time].iterrows():\n",
    "                lat = row['latitude']\n",
    "                lon = row['longitude']\n",
    "                point = Point(lat, lon)\n",
    "                if entry_polygon.contains(point) or entry_polygon.intersects(point):\n",
    "                    points_entry.append(row)\n",
    "            entry_points = pd.DataFrame(points_entry)\n",
    "\n",
    "        if not entry_points.empty:\n",
    "            entry_points = entry_points[entry_points[\"timestamp\"] < entry_time]\n",
    "            if not entry_points.empty:\n",
    "                entry_points[\"Polygon\"] = entry_points.apply(lambda row: find_polygon(row[\"latitude\"], row[\"longitude\"], dict_ret), axis=1)\n",
    "                most_common_polygon = entry_points.iloc[-required_entry_points:][\"Polygon\"].value_counts().idxmax()\n",
    "        else:\n",
    "            most_common_polygon = 'Unknown'\n",
    "\n",
    "        return {\n",
    "            \"Event\": \"Takeoff\",\n",
    "            \"Runway\": str(rwy),\n",
    "            'Flight (Callsign)': flight.callsign,\n",
    "            'Flight ID': flight.flight_id,\n",
    "            'A/C Type': flight.typecode,\n",
    "            'ICAO 24': flight.icao24,\n",
    "            'Entry Time': first_timestamp,\n",
    "            'Exit Time': last_timestamp,\n",
    "            'Not Vacated': has_no_end_data,\n",
    "            'RET': most_common_polygon,\n",
    "            'ROT [s]': rot,\n",
    "        }\n",
    "\n",
    "    return None\n"
   ]
  },
  {
   "cell_type": "markdown",
   "metadata": {},
   "source": [
    "##### Define general Function to determine ROT of arrival Flights and further features"
   ]
  },
  {
   "cell_type": "code",
   "execution_count": null,
   "metadata": {},
   "outputs": [],
   "source": [
    "# Define the processing function for each flight\n",
    "def process_flight_arr(flight, rwy, runway_polygon, vacated_polygon, end_polygon, dict_ret, ga_flight_id_list,\n",
    "                       altitude_threshold_runway, altitude_threshold_vacated, ga_altitude_threshold, time_th, time_min, required_vacated_points):\n",
    "\n",
    "    # Initialize variables\n",
    "    points_inside = []\n",
    "    points_vacated = []\n",
    "    points_indside_end = []\n",
    "    last_valid_altitude = None\n",
    "    vacated_points_count = 0\n",
    "    go_around = False\n",
    "    go_around_time = np.nan\n",
    "    not_vacated = True\n",
    "    short_rot = False\n",
    "\n",
    "    flight = flight.sort_values(by='timestamp')\n",
    "\n",
    "    # Iterate through flight data to collect position and altitude\n",
    "    for _, row in flight.data.iterrows():\n",
    "        lat = row['latitude']\n",
    "        lon = row['longitude']\n",
    "        alt = row['geoaltitude']\n",
    "\n",
    "        if np.isnan(alt) and last_valid_altitude is not None:\n",
    "            alt = last_valid_altitude\n",
    "\n",
    "        point = Point(lat, lon)\n",
    "\n",
    "        if (runway_polygon.contains(point) or runway_polygon.intersects(point)) and alt <= altitude_threshold_runway:\n",
    "            points_inside.append(row)\n",
    "            last_valid_altitude = alt\n",
    "\n",
    "        if ((vacated_polygon.contains(point) or vacated_polygon.intersects(point)) and not (runway_polygon.contains(point) or runway_polygon.intersects(point)) and (points_inside)):\n",
    "            points_vacated.append(row)\n",
    "            if alt <= altitude_threshold_vacated:\n",
    "                vacated_points_count += 1\n",
    "\n",
    "        if end_polygon.contains(point) or end_polygon.intersects(point):\n",
    "            points_indside_end.append(row)\n",
    "\n",
    "        if vacated_points_count >= required_vacated_points:\n",
    "            not_vacated = False\n",
    "            break\n",
    "\n",
    "    flight_data_rwy = pd.DataFrame(points_inside)\n",
    "    flight_rwy_end_data = pd.DataFrame(points_indside_end)\n",
    "    vacated_points = pd.DataFrame(points_vacated)\n",
    "\n",
    "    if not flight_data_rwy.empty:\n",
    "        first_timestamp = pd.to_datetime(flight_data_rwy['timestamp'].min())\n",
    "        last_timestamp = pd.to_datetime(flight_data_rwy['timestamp'].max())\n",
    "        rot = (last_timestamp - first_timestamp).total_seconds()\n",
    "\n",
    "        # Re-check if ROT is suspiciously short\n",
    "        if rot < time_min:\n",
    "            short_rot = True\n",
    "            points_inside = []\n",
    "            points_vacated = []\n",
    "            points_indside_end = []\n",
    "            last_valid_altitude = None\n",
    "            for _, row in flight.data.iterrows():\n",
    "                lat = row['latitude']\n",
    "                lon = row['longitude']\n",
    "                alt = row['geoaltitude']\n",
    "\n",
    "                if np.isnan(alt) and last_valid_altitude is not None:\n",
    "                    alt = last_valid_altitude\n",
    "\n",
    "                point = Point(lat, lon)\n",
    "\n",
    "                if runway_polygon.contains(point) or runway_polygon.intersects(point):\n",
    "                    points_inside.append(row)\n",
    "                    last_valid_altitude = alt\n",
    "\n",
    "                if ((vacated_polygon.contains(point) or vacated_polygon.intersects(point)) and not (runway_polygon.contains(point) or runway_polygon.intersects(point)) and (points_inside)):\n",
    "                    points_vacated.append(row)\n",
    "\n",
    "                if end_polygon.contains(point) or end_polygon.intersects(point):\n",
    "                    points_indside_end.append(row)\n",
    "\n",
    "            flight_data_rwy = pd.DataFrame(points_inside)\n",
    "            flight_rwy_end_data = pd.DataFrame(points_indside_end)\n",
    "            vacated_points = pd.DataFrame(points_vacated)\n",
    "\n",
    "        if not flight_data_rwy.empty:\n",
    "            first_timestamp = pd.to_datetime(flight_data_rwy['timestamp'].min())\n",
    "            last_timestamp = pd.to_datetime(flight_data_rwy['timestamp'].max())\n",
    "            rot = (last_timestamp - first_timestamp).total_seconds()\n",
    "\n",
    "        has_end_data = not flight_rwy_end_data.empty\n",
    "        points_above_ga_th = (flight_rwy_end_data['geoaltitude'] > ga_altitude_threshold).sum() if has_end_data else 0\n",
    "\n",
    "        # Check for potential go-around conditions\n",
    "        if (\n",
    "            rot > time_th or (has_end_data and (flight.flight_id in ga_flight_id_list or points_above_ga_th >= 1))\n",
    "        ):\n",
    "            flight_data_rwy = flight_data_rwy.sort_values(by='timestamp')\n",
    "            flight_data_rwy['time_diff'] = flight_data_rwy['timestamp'].diff().dt.total_seconds()\n",
    "            gap_index = flight_data_rwy[flight_data_rwy['time_diff'] > time_th].index\n",
    "            flight_data_rwy = flight_data_rwy.drop(columns=['time_diff'])\n",
    "\n",
    "            if (gap_index.empty and (has_end_data and (flight.flight_id in ga_flight_id_list or points_above_ga_th >= 1))):\n",
    "                go_around_time = flight_data_rwy.iloc[0]['timestamp']\n",
    "                go_around = True\n",
    "                return {\n",
    "                    'Event': 'Go-around',\n",
    "                    'Runway': str(rwy),\n",
    "                    'Flight (Callsign)': flight.callsign,\n",
    "                    'Flight ID': flight.flight_id,\n",
    "                    'Entry Time': go_around_time,\n",
    "                }\n",
    "\n",
    "            if not gap_index.empty:\n",
    "                go_around = True\n",
    "                go_around_time = flight_data_rwy.iloc[0]['timestamp']\n",
    "                # Prevent infinite loop\n",
    "                max_iterations = 10\n",
    "                iteration_count = 0\n",
    "                while ((rot > time_th) and (iteration_count < max_iterations)):\n",
    "                    iteration_count += 1\n",
    "                    flight_data_rwy['time_diff'] = flight_data_rwy['timestamp'].diff().dt.total_seconds()\n",
    "                    gap_index = flight_data_rwy[flight_data_rwy['time_diff'] > time_th].index\n",
    "                    if gap_index.empty:\n",
    "                        break\n",
    "                    first_gap_index = gap_index[0]\n",
    "                    flight_data_rwy = flight_data_rwy.loc[first_gap_index:]\n",
    "                    if flight_data_rwy.empty:\n",
    "                        return {\n",
    "                            'Event': 'Go-around',\n",
    "                            'Runway': str(rwy),\n",
    "                            'Flight (Callsign)': flight.callsign,\n",
    "                            'Flight ID': flight.flight_id,\n",
    "                            'Entry Time': go_around_time,\n",
    "                        }\n",
    "                    flight_data_rwy = flight_data_rwy.drop(columns=['time_diff'])\n",
    "                    first_timestamp = pd.to_datetime(flight_data_rwy['timestamp'].min())\n",
    "                    last_timestamp = pd.to_datetime(flight_data_rwy['timestamp'].max())\n",
    "                    rot = (last_timestamp - first_timestamp).total_seconds()\n",
    "                    if not vacated_points.empty and \"timestamp\" in vacated_points.columns:\n",
    "                        vacated_points = vacated_points[vacated_points[\"timestamp\"] >= first_timestamp]\n",
    "\n",
    "        entry_time = flight_data_rwy.iloc[0]['timestamp']\n",
    "\n",
    "        if not vacated_points.empty:\n",
    "            vacated_points = vacated_points[vacated_points[\"timestamp\"] > entry_time]\n",
    "\n",
    "            if not vacated_points.empty:\n",
    "                if not_vacated or short_rot:\n",
    "                    # Assign polygon based on vacated location\n",
    "                    vacated_points[\"Polygon\"] = vacated_points.apply(lambda row: find_polygon(row[\"latitude\"], row[\"longitude\"], dict_ret), axis=1)\n",
    "                    most_common_polygon = vacated_points.iloc[:required_vacated_points][\"Polygon\"].value_counts().idxmax()\n",
    "                else:\n",
    "                    vacated_points[\"Polygon\"] = vacated_points.apply(lambda row: find_polygon(row[\"latitude\"], row[\"longitude\"], dict_ret), axis=1)\n",
    "                    most_common_polygon = vacated_points[\"Polygon\"].value_counts().idxmax()\n",
    "            else:\n",
    "                most_common_polygon = 'Unknown'\n",
    "        else:\n",
    "            most_common_polygon = 'Unknown'\n",
    "\n",
    "        # Final output for successful landing\n",
    "        return {\n",
    "            'Event': 'Landing',\n",
    "            'Runway': str(rwy),\n",
    "            'Flight (Callsign)': flight.callsign,\n",
    "            'Flight ID': flight.flight_id,\n",
    "            'A/C Type': flight.typecode,\n",
    "            'ICAO 24': flight.icao24,\n",
    "            'Entry Time': entry_time,\n",
    "            'Exit Time': last_timestamp,\n",
    "            'Go-around': go_around,\n",
    "            'Time of Go-around': go_around_time,\n",
    "            'Emergency': flight.emergency().has(),\n",
    "            'Not Vacated': not_vacated,\n",
    "            'Short ROT': short_rot,\n",
    "            'RET': most_common_polygon,\n",
    "            'ROT [s]': rot,\n",
    "        }\n",
    "\n",
    "    return None\n"
   ]
  },
  {
   "cell_type": "markdown",
   "metadata": {},
   "source": [
    "#### Specific function for ROT determination of departure Flights"
   ]
  },
  {
   "cell_type": "markdown",
   "metadata": {},
   "source": [
    "##### Runway 10"
   ]
  },
  {
   "cell_type": "code",
   "execution_count": null,
   "metadata": {},
   "outputs": [],
   "source": [
    "def process_flight_dep_10(flight):\n",
    "    return process_flight_dep(flight,\n",
    "                              10, # Runway Number for Runway Entry in Table\n",
    "                              runway_polygon_10, # Runway Polygon\n",
    "                              runway_vacated_polygon_10, # Vacated Polygon\n",
    "                              runway_end_polygon_10, # End Polygon\n",
    "                              ret_dict_10, # RET Dictionary\n",
    "                              3000, # Runway Polygon Threshold Altitude (max Altitude of a Point in the Runway Polygon)\n",
    "                              1800, # End Polygon Threshold Altitude\n",
    "                              60, # Max ROT allowed ROT without detailed examinations (Go-around, Fly over)\n",
    "                              10, # Vacated Polygon Point Count Threshold (Number of points which are required for early stopping)\n",
    "                              5, # Vacated Polygon Point Count Threshold (Number of points which are required for early stopping)\n",
    "                              )"
   ]
  },
  {
   "cell_type": "markdown",
   "metadata": {},
   "source": [
    "##### Runway 16"
   ]
  },
  {
   "cell_type": "code",
   "execution_count": null,
   "metadata": {},
   "outputs": [],
   "source": [
    "def process_flight_dep_16(flight):\n",
    "    return process_flight_dep(flight,\n",
    "                              16, # Runway Number for Runway Entry in Table\n",
    "                              runway_polygon_16, # Runway Polygon\n",
    "                              runway_vacated_polygon_16, # Vacated Polygon\n",
    "                              runway_end_polygon_16, # End Polygon\n",
    "                              ret_dict_16, # RET Dictionary\n",
    "                              3000, # Runway Polygon Threshold Altitude (max Altitude of a Point in the Runway Polygon)\n",
    "                              1800, # Vacated Polygon Threshold Altitude\n",
    "                              60, # Max ROT allowed ROT without detailed examinations (Go-around, Fly over)\n",
    "                              10, # Vacated Polygon Point Count Threshold (Number of points which are required for early stopping)\n",
    "                              10, # Vacated Polygon Point Count Threshold (Number of points which are required for early stopping)\n",
    "                              )"
   ]
  },
  {
   "cell_type": "markdown",
   "metadata": {},
   "source": [
    "##### Runway 28"
   ]
  },
  {
   "cell_type": "code",
   "execution_count": null,
   "metadata": {},
   "outputs": [],
   "source": [
    "def process_flight_dep_28(flight):\n",
    "    return process_flight_dep(flight,\n",
    "                              28, # Runway Number for Runway Entry in Table\n",
    "                              runway_polygon_28, # Runway Polygon\n",
    "                              runway_vacated_polygon_28, # Vacated Polygon\n",
    "                              runway_end_polygon_28, # End Polygon\n",
    "                              ret_dict_28, # RET Dictionary\n",
    "                              3000, # Runway Polygon Threshold Altitude (max Altitude of a Point in the Runway Polygon)\n",
    "                              1800, # Vacated Polygon Threshold Altitude\n",
    "                              60, # Max ROT allowed ROT without detailed examinations (Go-around, Fly over)\n",
    "                              10, # Vacated Polygon Point Count Threshold (Number of points which are required for early stopping)\n",
    "                              5, # Vacated Polygon Point Count Threshold (Number of points which are required for early stopping)\n",
    "                              extra_end_polygon=extra_runway_end_polygon_28,\n",
    "                              )"
   ]
  },
  {
   "cell_type": "markdown",
   "metadata": {},
   "source": [
    "##### Runway 32"
   ]
  },
  {
   "cell_type": "code",
   "execution_count": null,
   "metadata": {},
   "outputs": [],
   "source": [
    "def process_flight_dep_32(flight):\n",
    "    return process_flight_dep(flight,\n",
    "                              32, # Runway Number for Runway Entry in table\n",
    "                              runway_polygon_32, # Runway Polygon\n",
    "                              runway_vacated_polygon_32, # Vacated Polygon\n",
    "                              runway_end_polygon_32, # End Polygon\n",
    "                              ret_dict_32, # RET Dictionary\n",
    "                              3000, # Runway Polygon Threshold Altitude (max Altitude of a Point in the Runway Polygon)\n",
    "                              2000, # Vacated Polygon Threshold Altitude\n",
    "                              60, # Max ROT allowed ROT without detailed examinations (Go-around, Fly over)\n",
    "                              10, # Vacated Polygon Point Count Threshold (Number of points which are required for early stopping)\n",
    "                              5, # Vacated Polygon Point Count Threshold (Number of points which are required for early stopping)\n",
    "                              )"
   ]
  },
  {
   "cell_type": "markdown",
   "metadata": {},
   "source": [
    "##### Runway 34"
   ]
  },
  {
   "cell_type": "code",
   "execution_count": null,
   "metadata": {},
   "outputs": [],
   "source": [
    "def process_flight_dep_34(flight):\n",
    "    return process_flight_dep(flight,\n",
    "                              34, # Runway Number for Runway Entry in table\n",
    "                              runway_polygon_dep_34, # Runway Polygon\n",
    "                              runway_vacated_polygon_34, # Vacated Polygon\n",
    "                              runway_end_polygon_34, # End Polygon\n",
    "                              ret_dict_34, # RET Dictionary\n",
    "                              3000, # Runway Polygon Threshold Altitude (max Altitude of a Point in the Runway Polygon)\n",
    "                              2000, # Vacated Polygon Threshold Altitude\n",
    "                              60, # Max ROT allowed ROT without detailed examinations (Go-around, Fly over)\n",
    "                              10, # Vacated Polygon Point Count Threshold (Number of points which are required for early stopping)\n",
    "                              5, # Vacated Polygon Point Count Threshold (Number of points which are required for early stopping)\n",
    "                              )"
   ]
  },
  {
   "cell_type": "markdown",
   "metadata": {},
   "source": [
    "#### Specific function for ROT determination of Arrival Flights"
   ]
  },
  {
   "cell_type": "markdown",
   "metadata": {},
   "source": [
    "##### Runway 14"
   ]
  },
  {
   "cell_type": "code",
   "execution_count": null,
   "metadata": {},
   "outputs": [],
   "source": [
    "def process_flight_arr_14(flight):\n",
    "    return process_flight_arr(flight,\n",
    "                              14, # Runway Number for Runway Entry in table\n",
    "                              runway_polygon_14, # Runway Polygon\n",
    "                              runway_vacated_polygon_14, # Vacated Polygon\n",
    "                              runway_end_polygon_14, # End Polygon\n",
    "                              ret_dict_14, # RET Dictionary\n",
    "                              go_around_ids, # Go-around IDS\n",
    "                              4000, # Runway Polygon Threshold Altitude (max Altitude of a Point in the Runway Polygon)\n",
    "                              2000, # Vacated Polygon Threshold Altitude\n",
    "                              1800, # Minimum Altitude to be considered as part of the Go-around Polygon\n",
    "                              150, # Max ROT allowed ROT without detailed examinations (Go-around, Fly over)\n",
    "                              40, # Minimum ROT without further investment\n",
    "                              10 # Vacated Polygon Point Count Threshold (Number of points which are required for early stopping)\n",
    "                              )"
   ]
  },
  {
   "cell_type": "markdown",
   "metadata": {},
   "source": [
    "##### Runway 16"
   ]
  },
  {
   "cell_type": "code",
   "execution_count": null,
   "metadata": {},
   "outputs": [],
   "source": [
    "def process_flight_arr_16(flight):\n",
    "    return process_flight_arr(flight,\n",
    "                              16, # Runway Number for Runway Entry in table\n",
    "                              runway_polygon_16, # Runway Polygon\n",
    "                              runway_vacated_polygon_16, # Vacated Polygon\n",
    "                              runway_end_polygon_16, # End Polygon\n",
    "                              ret_dict_16, # RET Dictionary\n",
    "                              go_around_ids, # Go-around IDS\n",
    "                              4000, # Runway Polygon Threshold Altitude (max Altitude of a Point in the Runway Polygon)\n",
    "                              2000, # Vacated Polygon Threshold Altitude\n",
    "                              1800, # Minimum Altitude to be considered as part of the Go-around Polygon\n",
    "                              150, # Max ROT allowed ROT without detailed examinations (Go-around, Fly over)\n",
    "                              40, # Minimum ROT without further investment\n",
    "                              10 # Vacated Polygon Point Count Threshold (Number of points which are required for early stopping)\n",
    "                              )"
   ]
  },
  {
   "cell_type": "markdown",
   "metadata": {},
   "source": [
    "##### Runway 28"
   ]
  },
  {
   "cell_type": "code",
   "execution_count": null,
   "metadata": {},
   "outputs": [],
   "source": [
    "def process_flight_arr_28(flight):\n",
    "    return process_flight_arr(flight,\n",
    "                              28, # Runway Number for Runway Entry in table\n",
    "                              runway_polygon_28, # Runway Polygon\n",
    "                              runway_vacated_polygon_28, # Vacated Polygon\n",
    "                              runway_end_polygon_28, # End Polygon\n",
    "                              ret_dict_28, # RET Dictionary\n",
    "                              go_around_ids, # Go-around IDS\n",
    "                              4000, # Runway Polygon Threshold Altitude (max Altitude of a Point in the Runway Polygon)\n",
    "                              2000, # Vacated Polygon Threshold Altitude\n",
    "                              1800, # Minimum Altitude to be considered as part of the Go-around Polygon\n",
    "                              150, # Max ROT allowed ROT without detailed examinations (Go-around, Fly over)\n",
    "                              30, # Minimum ROT without further investment\n",
    "                              10 # Vacated Polygon Point Count Threshold (Number of points which are required for early stopping)\n",
    "                              )"
   ]
  },
  {
   "cell_type": "markdown",
   "metadata": {},
   "source": [
    "##### Runway 34"
   ]
  },
  {
   "cell_type": "code",
   "execution_count": null,
   "metadata": {},
   "outputs": [],
   "source": [
    "def process_flight_arr_34(flight):\n",
    "    return process_flight_arr(flight,\n",
    "                              34, # Runway Number for Runway Entry in table\n",
    "                              runway_polygon_34, # Runway Polygon\n",
    "                              runway_vacated_polygon_34, # Vacated Polygon\n",
    "                              runway_end_polygon_34, # End Polygon\n",
    "                              ret_dict_34, # RET Dictionary\n",
    "                              go_around_ids, # Go-around IDS\n",
    "                              4000, # Runway Polygon Threshold Altitude (max Altitude of a Point in the Runway Polygon)\n",
    "                              2000, # Vacated Polygon Threshold Altitude\n",
    "                              1800, # Minimum Altitude to be considered as part of the Go-around Polygon\n",
    "                              150, # Max ROT allowed ROT without detailed examinations (Go-around, Fly over)\n",
    "                              30, # Minimum ROT without further investment\n",
    "                              10 # Vacated Polygon Point Count Threshold (Number of points which are required for early stopping)\n",
    "                              )"
   ]
  },
  {
   "cell_type": "markdown",
   "metadata": {},
   "source": [
    "##### Evaluate Function on Trajs and add data to table"
   ]
  },
  {
   "cell_type": "markdown",
   "metadata": {},
   "source": [
    "##### departures"
   ]
  },
  {
   "cell_type": "markdown",
   "metadata": {},
   "source": [
    "##### Runway 10"
   ]
  },
  {
   "cell_type": "code",
   "execution_count": null,
   "metadata": {},
   "outputs": [],
   "source": [
    "# Lazy iteration over flights using iterate_lazy\n",
    "table_dep_10 = trajs_dep_10.iterate_lazy().pipe(process_flight_dep_10).eval(max_workers=40, desc='Processing Flights')\n",
    "del trajs_dep_10"
   ]
  },
  {
   "cell_type": "markdown",
   "metadata": {},
   "source": [
    "##### Runway 16"
   ]
  },
  {
   "cell_type": "code",
   "execution_count": null,
   "metadata": {},
   "outputs": [],
   "source": [
    "# Lazy iteration over flights using iterate_lazy\n",
    "table_dep_16 = trajs_dep_16.iterate_lazy().pipe(process_flight_dep_16).eval(max_workers=40, desc='Processing Flights')\n",
    "del trajs_dep_16"
   ]
  },
  {
   "cell_type": "markdown",
   "metadata": {},
   "source": [
    "##### Runway 28"
   ]
  },
  {
   "cell_type": "code",
   "execution_count": null,
   "metadata": {},
   "outputs": [],
   "source": [
    "# Lazy iteration over flights using iterate_lazy\n",
    "table_dep_28 = trajs_dep_28.iterate_lazy().pipe(process_flight_dep_28).eval(max_workers=40, desc='Processing Flights')\n",
    "del trajs_dep_28"
   ]
  },
  {
   "cell_type": "markdown",
   "metadata": {},
   "source": [
    "##### Runway 32"
   ]
  },
  {
   "cell_type": "code",
   "execution_count": null,
   "metadata": {},
   "outputs": [],
   "source": [
    "# Lazy iteration over flights using iterate_lazy\n",
    "table_dep_32 = trajs_dep_32.iterate_lazy().pipe(process_flight_dep_32).eval(max_workers=40, desc='Processing Flights')\n",
    "del trajs_dep_32"
   ]
  },
  {
   "cell_type": "markdown",
   "metadata": {},
   "source": [
    "##### Runway 34"
   ]
  },
  {
   "cell_type": "code",
   "execution_count": null,
   "metadata": {},
   "outputs": [],
   "source": [
    "# Lazy iteration over flights using iterate_lazy\n",
    "table_dep_34 = trajs_dep_34.iterate_lazy().pipe(process_flight_dep_34).eval(max_workers=40, desc='Processing Flights')\n",
    "del trajs_dep_34"
   ]
  },
  {
   "cell_type": "markdown",
   "metadata": {},
   "source": [
    "##### Arrivals"
   ]
  },
  {
   "cell_type": "markdown",
   "metadata": {},
   "source": [
    "##### Runway 14"
   ]
  },
  {
   "cell_type": "code",
   "execution_count": null,
   "metadata": {},
   "outputs": [],
   "source": [
    "# Lazy iteration over flights using iterate_lazy\n",
    "table_arr_14 = trajs_arr_14.iterate_lazy().pipe(process_flight_arr_14).eval(max_workers=40, desc='Processing Flights')\n",
    "del trajs_arr_14"
   ]
  },
  {
   "cell_type": "markdown",
   "metadata": {},
   "source": [
    "##### Runway 16"
   ]
  },
  {
   "cell_type": "code",
   "execution_count": null,
   "metadata": {},
   "outputs": [],
   "source": [
    "# Lazy iteration over flights using iterate_lazy\n",
    "table_arr_16 = trajs_arr_16.iterate_lazy().pipe(process_flight_arr_16).eval(max_workers=40, desc='Processing Flights')\n",
    "del trajs_arr_16"
   ]
  },
  {
   "cell_type": "markdown",
   "metadata": {},
   "source": [
    "##### Runway 28"
   ]
  },
  {
   "cell_type": "code",
   "execution_count": null,
   "metadata": {},
   "outputs": [],
   "source": [
    "# Lazy iteration over flights using iterate_lazy\n",
    "table_arr_28 = trajs_arr_28.iterate_lazy().pipe(process_flight_arr_28).eval(max_workers=40, desc='Processing Flights')\n",
    "del trajs_arr_28"
   ]
  },
  {
   "cell_type": "markdown",
   "metadata": {},
   "source": [
    "##### Runway 34"
   ]
  },
  {
   "cell_type": "code",
   "execution_count": null,
   "metadata": {},
   "outputs": [],
   "source": [
    "# Lazy iteration over flights using iterate_lazy\n",
    "table_arr_34 = trajs_arr_34.iterate_lazy().pipe(process_flight_arr_34).eval(max_workers=40, desc='Processing Flights')\n",
    "del trajs_arr_34"
   ]
  },
  {
   "cell_type": "code",
   "execution_count": null,
   "metadata": {},
   "outputs": [],
   "source": [
    "table = pd.concat([table_dep_10, table_dep_16, table_dep_28, table_dep_32, table_dep_34, table_arr_14, table_arr_16, table_arr_28, table_arr_34], ignore_index=True)"
   ]
  },
  {
   "cell_type": "code",
   "execution_count": null,
   "metadata": {},
   "outputs": [],
   "source": [
    "del table_dep_10\n",
    "del table_dep_16\n",
    "del table_dep_28\n",
    "del table_dep_32\n",
    "del table_dep_34\n",
    "del table_arr_14\n",
    "del table_arr_16\n",
    "del table_arr_28\n",
    "del table_arr_34"
   ]
  },
  {
   "cell_type": "markdown",
   "metadata": {},
   "source": [
    "##### Creating an own Entry for Go-Arounds"
   ]
  },
  {
   "cell_type": "code",
   "execution_count": null,
   "metadata": {},
   "outputs": [],
   "source": [
    "# Duplicate rows where 'Time of Go-around' has a value\n",
    "go_around_rows = table.dropna(subset=['Time of Go-around']).copy()\n",
    "\n",
    "# Keep only the required columns and rename 'Time of Go-around' to 'Entry Time'\n",
    "go_around_rows = go_around_rows[['Runway', 'Flight (Callsign)', 'Flight ID', 'Time of Go-around']].copy()\n",
    "go_around_rows.rename(columns={'Time of Go-around': 'Entry Time'}, inplace=True)\n",
    "\n",
    "# Set the 'Event' column to 'Go-around'\n",
    "go_around_rows['Event'] = 'Go-around'\n",
    "\n",
    "# Concatenate the original and new rows, then sort by 'Flight ID' and 'Entry Time'\n",
    "table = pd.concat([table, go_around_rows], ignore_index=True).sort_values(by=['Flight ID', 'Entry Time'])"
   ]
  },
  {
   "cell_type": "markdown",
   "metadata": {},
   "source": [
    "##### Sort table in regards of Time at TH"
   ]
  },
  {
   "cell_type": "code",
   "execution_count": null,
   "metadata": {},
   "outputs": [],
   "source": [
    "# Sort values\n",
    "table = table.sort_values(by='Entry Time')\n",
    "\n",
    "# Reset index\n",
    "table.reset_index(drop=True, inplace=True)\n",
    "\n",
    "table\n"
   ]
  },
  {
   "cell_type": "markdown",
   "metadata": {},
   "source": [
    "### Import and Add Data from FAA Aircraft Characteristics Database"
   ]
  },
  {
   "cell_type": "markdown",
   "metadata": {},
   "source": [
    "##### In case of missing data in opensky, an manually built database is used to add ICAO Aircraft Type"
   ]
  },
  {
   "cell_type": "code",
   "execution_count": null,
   "metadata": {},
   "outputs": [],
   "source": [
    "# Load the list from the CSV file into a DataFrame\n",
    "DF_MISSING_ICAO24 = pd.read_csv('missing_icao24_data.csv')"
   ]
  },
  {
   "cell_type": "markdown",
   "metadata": {},
   "source": [
    "##### Add and check A/C Type for missing  or outdated entries by using a manual database"
   ]
  },
  {
   "cell_type": "code",
   "execution_count": null,
   "metadata": {},
   "outputs": [],
   "source": [
    "# Create a dictionary from the second table (DF_MISSING_ICAO24) for quick access\n",
    "icao24_dict = DF_MISSING_ICAO24.set_index('icao24').to_dict(orient='index')\n",
    "\n",
    "# Update 'A/C Type' for missing or outdated values\n",
    "for icao24, info in icao24_dict.items():\n",
    "    # Mask for rows with matching icao24 and either missing or outdated 'A/C Type'\n",
    "    mask_ac_type = (table['ICAO 24'] == icao24) & ((table['A/C Type'].isna()) | (table['A/C Type'] == '') | (table['A/C Type'] != info['typecode']))\n",
    "    table.loc[mask_ac_type, 'A/C Type'] = info['typecode']\n",
    "\n",
    "# Display the result for 'A/C Type' updates\n",
    "table"
   ]
  },
  {
   "cell_type": "markdown",
   "metadata": {},
   "source": [
    "##### Load the FAA Characterisitcs Database Excel file into a DataFrame"
   ]
  },
  {
   "cell_type": "code",
   "execution_count": null,
   "metadata": {},
   "outputs": [],
   "source": [
    "aircraft_characteristics = pd.read_excel('www.faa.gov.xlsx')"
   ]
  },
  {
   "cell_type": "markdown",
   "metadata": {},
   "source": [
    "##### Add Maximum Allowable Landing Weight (MALW) anc ICAO Weight Turbulence Category (WTC) to table"
   ]
  },
  {
   "cell_type": "code",
   "execution_count": null,
   "metadata": {},
   "outputs": [],
   "source": [
    "table = table.merge(aircraft_characteristics[['ICAO_Code', 'MALW_lb', 'ICAO_WTC']],\n",
    "                                  left_on='A/C Type',    # Column in table\n",
    "                                  right_on='ICAO_Code',  # Column in aircraft_characteristics\n",
    "                                  how='left').drop(columns='ICAO_Code')  # Optionally drop 'ICAO_Code' after merge\n"
   ]
  },
  {
   "cell_type": "code",
   "execution_count": null,
   "metadata": {},
   "outputs": [],
   "source": [
    "table"
   ]
  },
  {
   "cell_type": "markdown",
   "metadata": {},
   "source": [
    "##### Convert to metric units"
   ]
  },
  {
   "cell_type": "code",
   "execution_count": null,
   "metadata": {},
   "outputs": [],
   "source": [
    "# Convert non-NaN values from pounds to kilograms and round, keeping NaNs as they are\n",
    "table['MALW [kg]'] = table['MALW_lb'].apply(lambda x: round(x * 0.453592) if pd.notna(x) else x)"
   ]
  },
  {
   "cell_type": "markdown",
   "metadata": {},
   "source": [
    "### Engineer further Data from table"
   ]
  },
  {
   "cell_type": "markdown",
   "metadata": {},
   "source": [
    "##### Add ICAO Aircraft Type table"
   ]
  },
  {
   "cell_type": "code",
   "execution_count": null,
   "metadata": {},
   "outputs": [],
   "source": [
    "table"
   ]
  },
  {
   "cell_type": "code",
   "execution_count": null,
   "metadata": {},
   "outputs": [],
   "source": [
    "# Perform the merge\n",
    "table = table.merge(aircraft.data[['icao24', 'icaoaircrafttype']],\n",
    "                                  left_on='ICAO 24',\n",
    "                                  right_on='icao24',  # Column in aircraft.data\n",
    "                                  how='left')"
   ]
  },
  {
   "cell_type": "markdown",
   "metadata": {},
   "source": [
    "##### In case of missing data in opensky, an manually built database is used to add ICAO Aircraft Type"
   ]
  },
  {
   "cell_type": "code",
   "execution_count": null,
   "metadata": {},
   "outputs": [],
   "source": [
    "# Update 'icaoaircrafttype' for missing or outdated values\n",
    "for icao24, info in icao24_dict.items():\n",
    "    # Mask for rows with matching icao24 and either missing or outdated 'icaoaircrafttype'\n",
    "    mask_icaoaircrafttype = (table['ICAO 24'] == icao24) & ((table['icaoaircrafttype'].isna()) | (table['icaoaircrafttype'] == '') | (table['icaoaircrafttype'] != info['icaoaircrafttype']))\n",
    "    table.loc[mask_icaoaircrafttype, 'icaoaircrafttype'] = info['icaoaircrafttype']\n",
    "\n",
    "# Display the result for 'icaoaircrafttype' updates\n",
    "table"
   ]
  },
  {
   "cell_type": "markdown",
   "metadata": {},
   "source": [
    "##### Extract Number of Engines and Propulsion Type from ICAO Aircraft Code"
   ]
  },
  {
   "cell_type": "code",
   "execution_count": null,
   "metadata": {},
   "outputs": [],
   "source": [
    "# Function to extract number of engines and propulsion type dynamically based on length\n",
    "def get_engine_info(icao_type):\n",
    "    if isinstance(icao_type, str) and len(icao_type) == 3:  # Check if the length is exactly 3\n",
    "        num_engines = int(icao_type[1])  # Extract number of engines (2nd character) and convert to integer\n",
    "        propulsion_code = icao_type[2]   # Extract propulsion type (3rd character)\n",
    "\n",
    "        # Check for propulsion type based on the 3rd character\n",
    "        if propulsion_code == 'J':\n",
    "            propulsion_type = 'Jet'\n",
    "        elif propulsion_code == 'T':\n",
    "            propulsion_type = 'Turboprop'\n",
    "        elif propulsion_code == 'P':\n",
    "            propulsion_type = 'Piston'\n",
    "        else:\n",
    "            propulsion_type = np.nan  # Handle unknown propulsion types\n",
    "\n",
    "        return propulsion_type, num_engines\n",
    "    else:\n",
    "        return np.nan, np.nan  # Handle cases where length is not exactly 3\n",
    "\n",
    "# Apply the function to the 'icaoaircrafttype' column\n",
    "table['Propulsion Type'], table['Number of Engines'] = zip(\n",
    "    *table['icaoaircrafttype'].apply(get_engine_info)\n",
    ")\n",
    "\n",
    "# Ensure NaN instead of <NA> in the 'Number of Engines' column\n",
    "table['Number of Engines'] = table['Number of Engines'].replace({pd.NA: np.nan})\n",
    "\n",
    "# Convert \"Number of Engines\" to integer type\n",
    "table['Number of Engines'] = table['Number of Engines'].astype('float64')  # Use float to handle NaN\n",
    "\n",
    "# Display the result\n",
    "table\n"
   ]
  },
  {
   "cell_type": "markdown",
   "metadata": {},
   "source": [
    "##### Derive ICAO Code from callsign (Airline)"
   ]
  },
  {
   "cell_type": "code",
   "execution_count": null,
   "metadata": {},
   "outputs": [],
   "source": [
    "# Step 1: Extract the first three characters of the 'Flight (Callsign)' column to get the ICAO Code\n",
    "table['ICAO Code'] = table['Flight (Callsign)'].str[:3]\n",
    "\n",
    "# Step 2: Define a threshold for the minimum number of occurrences required for an ICAO Code to be considered valid\n",
    "threshold = 0  # Set your desired threshold value here\n",
    "\n",
    "# Step 3: Count occurrences of each ICAO Code in the table\n",
    "icao_counts = table['ICAO Code'].value_counts()\n",
    "\n",
    "# Step 4: Assign \"Unknown\" to ICAO Codes that do not meet the threshold\n",
    "table['ICAO Code'] = table['ICAO Code'].apply(lambda x: x if icao_counts.get(x, 0) >= threshold else 'Unknown')\n"
   ]
  },
  {
   "cell_type": "markdown",
   "metadata": {},
   "source": [
    "##### Determine Entry Time Difference between succesive landings"
   ]
  },
  {
   "cell_type": "code",
   "execution_count": null,
   "metadata": {},
   "outputs": [],
   "source": [
    "# Convert 'Entry Time' to datetime format and force conversion with 'coerce' to mark non-date values as NaT\n",
    "table['Entry Time'] = pd.to_datetime(table['Entry Time'], errors='coerce')\n",
    "\n",
    "# Check if all values were correctly converted\n",
    "if table['Entry Time'].isnull().any():\n",
    "    print(\"Warning: Some values in 'Entry Time' could not be converted and were marked as NaT.\")\n",
    "\n",
    "# Filter only landings\n",
    "landings = table[table['Event'] == 'Landing']\n",
    "\n",
    "# Calculate the time difference to the previous landing on the same runway\n",
    "table['Time from Previous Landing [s]'] = (\n",
    "    table['Entry Time'] - landings.groupby('Runway')['Entry Time'].shift(1)\n",
    ").dt.total_seconds()\n",
    "\n",
    "# Fill NaN values (e.g., first landing on each runway has no previous landing)\n",
    "table['Time from Previous Landing [s]'] = table['Time from Previous Landing [s]'].fillna(0)\n"
   ]
  },
  {
   "cell_type": "markdown",
   "metadata": {},
   "source": [
    "##### Time from Previous Event"
   ]
  },
  {
   "cell_type": "code",
   "execution_count": null,
   "metadata": {},
   "outputs": [],
   "source": [
    "# Calculate the time difference to the previous event on the same runway\n",
    "table['Time from Previous Event [s]'] = (\n",
    "    table['Entry Time'] - table.groupby('Runway')['Entry Time'].shift(1)\n",
    ").dt.total_seconds()\n",
    "\n",
    "# Fill NaN values (e.g., first event on each runway has no previous event)\n",
    "table['Time from Previous Event [s]'] = table['Time from Previous Event [s]'].fillna(0)\n"
   ]
  },
  {
   "cell_type": "markdown",
   "metadata": {},
   "source": [
    "##### Time to next Event"
   ]
  },
  {
   "cell_type": "code",
   "execution_count": null,
   "metadata": {},
   "outputs": [],
   "source": [
    "# Calculate time to the next event on the same runway\n",
    "table['Time to Next Event [s]'] = (\n",
    "    table.groupby('Runway')['Entry Time']\n",
    "    .shift(-1) - table['Entry Time']\n",
    ")\n",
    "\n",
    "# Convert to seconds\n",
    "table['Time to Next Event [s]'] = table['Time to Next Event [s]'].dt.total_seconds()"
   ]
  },
  {
   "cell_type": "markdown",
   "metadata": {},
   "source": [
    "##### Determine Gate"
   ]
  },
  {
   "cell_type": "code",
   "execution_count": null,
   "metadata": {},
   "outputs": [],
   "source": [
    "table_reduced = table.loc[(table['Event'] == 'Takeoff') | (table['Event'] == 'Landing')]\n",
    "table_reduced_flight_ids = table_reduced['Flight ID'].unique().tolist()\n",
    "trajs_gate = trajs[table_reduced_flight_ids]"
   ]
  },
  {
   "cell_type": "code",
   "execution_count": null,
   "metadata": {},
   "outputs": [],
   "source": [
    "def find_gate(flight):\n",
    "    \"\"\"Finds the most frequent gate region (North, East, South, West) based on first or last 5 recorded positions.\"\"\"\n",
    "    num_points = 5  # Number of points to check\n",
    "\n",
    "    # Retrieve the event type (Takeoff or Landing) for the given flight\n",
    "    event_series = table_reduced['Event'].loc[table_reduced['Flight ID'] == flight.flight_id]\n",
    "\n",
    "    if event_series.empty:\n",
    "        return None  # No event data found\n",
    "\n",
    "    event = event_series.iloc[0]\n",
    "\n",
    "    if event == \"Takeoff\":\n",
    "        points = flight.data.iloc[:num_points][[\"longitude\", \"latitude\"]].values\n",
    "    elif event == \"Landing\":\n",
    "        points = flight.data.iloc[-num_points:][[\"longitude\", \"latitude\"]].values\n",
    "    else:\n",
    "        return None  # Unknown event\n",
    "\n",
    "    gate_counter = Counter()\n",
    "\n",
    "    for lon, lat in points:\n",
    "        point = Point(lat, lon)\n",
    "\n",
    "        for gate_name, polygon in gate_polygons.items():\n",
    "            if polygon.contains(point):\n",
    "                gate_counter[gate_name] += 1\n",
    "                break  # Found a matching polygon, stop checking\n",
    "\n",
    "    if not gate_counter:\n",
    "        return {\n",
    "            \"Flight ID\": flight.flight_id,\n",
    "            \"Gate Region\": \"Unknown\"\n",
    "        }\n",
    "\n",
    "    most_common_gate = gate_counter.most_common(1)[0][0]\n",
    "\n",
    "    return {\n",
    "        \"Flight ID\": flight.flight_id,\n",
    "        \"Gate Region\": most_common_gate\n",
    "    }\n"
   ]
  },
  {
   "cell_type": "code",
   "execution_count": null,
   "metadata": {},
   "outputs": [],
   "source": [
    "gate_table = trajs_gate.iterate_lazy().pipe(find_gate).eval(max_workers=40, desc=\"Processing\")\n",
    "table = table.merge(gate_table, on=\"Flight ID\", how=\"left\")"
   ]
  },
  {
   "cell_type": "markdown",
   "metadata": {},
   "source": [
    "##### Rename the columns"
   ]
  },
  {
   "cell_type": "code",
   "execution_count": null,
   "metadata": {},
   "outputs": [],
   "source": [
    "table = table.rename(columns={\n",
    "    'icao24': 'ICAO 24',\n",
    "    'icaoaircrafttype': 'ICAO Aircraft Type',\n",
    "    'ICAO_WTC': 'ICAO Weight Turbulence Category'}\n",
    ")"
   ]
  },
  {
   "cell_type": "markdown",
   "metadata": {},
   "source": [
    "#### Add missing aircraft characteristics data"
   ]
  },
  {
   "cell_type": "code",
   "execution_count": null,
   "metadata": {},
   "outputs": [],
   "source": [
    "missing_aircraft_characteristics = pd.read_csv('missing_malw.csv')"
   ]
  },
  {
   "cell_type": "code",
   "execution_count": null,
   "metadata": {},
   "outputs": [],
   "source": [
    "# Rename column to match the naming in the main table\n",
    "df_missing = missing_aircraft_characteristics.rename(columns={'IWTC': 'ICAO Weight Turbulence Category'})\n",
    "\n",
    "# Keep only the relevant columns\n",
    "df_missing = df_missing[['A/C Type', 'MALW [kg]', 'ICAO Weight Turbulence Category']]\n",
    "\n",
    "# Merge to supplement missing values\n",
    "merged = table.merge(df_missing, on='A/C Type', how='left', suffixes=('', '_missing'))\n",
    "\n",
    "# Fill missing values in the main table with values from the merged dataframe\n",
    "table['MALW [kg]'] = table['MALW [kg]'].fillna(merged['MALW [kg]_missing'])\n",
    "table['ICAO Weight Turbulence Category'] = table['ICAO Weight Turbulence Category'].fillna(\n",
    "    merged['ICAO Weight Turbulence Category_missing']\n",
    ")\n"
   ]
  },
  {
   "cell_type": "markdown",
   "metadata": {},
   "source": [
    "### Rearrange the columns as definded at the beginning"
   ]
  },
  {
   "cell_type": "code",
   "execution_count": null,
   "metadata": {},
   "outputs": [],
   "source": [
    "table = table[columns]\n",
    "table"
   ]
  },
  {
   "cell_type": "markdown",
   "metadata": {},
   "source": [
    "##### Get required Flight Data"
   ]
  },
  {
   "cell_type": "code",
   "execution_count": null,
   "metadata": {},
   "outputs": [],
   "source": [
    "table_required = table.loc[(table['Event'] == 'Landing') & (table['Runway'] == '14')]\n",
    "flight_ids_required = table_required['Flight ID'].unique()\n",
    "\n",
    "trajs_required_complete = trajs[flight_ids_required].resample('1s').eval(max_workers=40, desc='Processing')"
   ]
  },
  {
   "cell_type": "markdown",
   "metadata": {},
   "source": [
    "##### Save complete required dataset as parquet file"
   ]
  },
  {
   "cell_type": "code",
   "execution_count": null,
   "metadata": {},
   "outputs": [],
   "source": [
    "trajs_required_complete.to_parquet('trajs_required_complete.parquet')"
   ]
  },
  {
   "cell_type": "markdown",
   "metadata": {},
   "source": [
    "##### Get Airborne Data before Entry Time"
   ]
  },
  {
   "cell_type": "code",
   "execution_count": null,
   "metadata": {},
   "outputs": [],
   "source": [
    "def required_airborne_part(flight):\n",
    "    entry_time = table_required['Entry Time'].loc[table['Flight ID'] == flight.flight_id]\n",
    "    entry_time = pd.to_datetime(entry_time)\n",
    "\n",
    "    if not entry_time.empty:\n",
    "        entry_time = entry_time.iloc[0]\n",
    "        flight.data = flight.data.loc[flight.data['timestamp'] < entry_time]\n",
    "    \n",
    "    return flight\n"
   ]
  },
  {
   "cell_type": "code",
   "execution_count": null,
   "metadata": {},
   "outputs": [],
   "source": [
    "trajs_required_airborne = trajs_required_complete.iterate_lazy().pipe(required_airborne_part).eval(max_workers=40,desc=\"Processing\")"
   ]
  },
  {
   "cell_type": "markdown",
   "metadata": {},
   "source": [
    "##### Save airborne required dataset as parquet file"
   ]
  },
  {
   "cell_type": "code",
   "execution_count": null,
   "metadata": {},
   "outputs": [],
   "source": [
    "trajs_required_airborne.to_parquet('trajs_required_airborne.parquet')"
   ]
  },
  {
   "cell_type": "markdown",
   "metadata": {},
   "source": [
    "##### Reduce Dataset only up to prediction point"
   ]
  },
  {
   "cell_type": "code",
   "execution_count": null,
   "metadata": {},
   "outputs": [],
   "source": [
    "threshold_14 = airports['LSZH'].runways.list[2]\n",
    "trajs_required = trajs_required_airborne.distance(threshold_14).eval(max_workers=1, desc='Processing')"
   ]
  },
  {
   "cell_type": "code",
   "execution_count": null,
   "metadata": {},
   "outputs": [],
   "source": [
    "trajs_required = trajs_required.query(\"distance >= 4\")"
   ]
  },
  {
   "cell_type": "markdown",
   "metadata": {},
   "source": [
    "##### Save required dataset up to prediction point as parquet file"
   ]
  },
  {
   "cell_type": "code",
   "execution_count": null,
   "metadata": {},
   "outputs": [],
   "source": [
    "trajs_required.to_parquet('trajs_required_prediction.parquet')"
   ]
  },
  {
   "cell_type": "markdown",
   "metadata": {},
   "source": [
    "##### Get only Data Snippet directly in front of prediction point"
   ]
  },
  {
   "cell_type": "code",
   "execution_count": null,
   "metadata": {},
   "outputs": [],
   "source": [
    "trajs_required = trajs_required.last('10s').eval(max_workers=40, desc='Processing')"
   ]
  },
  {
   "cell_type": "markdown",
   "metadata": {},
   "source": [
    "##### Save final trajectory snippet dataset"
   ]
  },
  {
   "cell_type": "code",
   "execution_count": null,
   "metadata": {},
   "outputs": [],
   "source": [
    "trajs_required.to_parquet('Trajectory_Snippet.parquet')"
   ]
  },
  {
   "cell_type": "code",
   "execution_count": null,
   "metadata": {},
   "outputs": [],
   "source": [
    "final_table = table_required[['Flight ID', 'Entry Time', 'Exit Time', 'ICAO Code', 'A/C Type', 'ICAO Aircraft Type', 'Propulsion Type', 'Number of Engines', 'MALW [kg]', 'ICAO Weight Turbulence Category', 'Gate Region', 'RET', 'ROT [s]']]"
   ]
  },
  {
   "cell_type": "markdown",
   "metadata": {},
   "source": [
    "#### Time of Prediction"
   ]
  },
  {
   "cell_type": "code",
   "execution_count": null,
   "metadata": {},
   "outputs": [],
   "source": [
    "def time_of_prediction(flight):\n",
    "    top = flight.stop\n",
    "    return{\n",
    "        \"Flight ID\": flight.flight_id,\n",
    "        \"Time of Prediction\": top\n",
    "    }"
   ]
  },
  {
   "cell_type": "code",
   "execution_count": null,
   "metadata": {},
   "outputs": [],
   "source": [
    "prediction_time_table = trajs_required.iterate_lazy().pipe(time_of_prediction).eval(max_workers=40, desc=\"Processing Flights\")"
   ]
  },
  {
   "cell_type": "markdown",
   "metadata": {},
   "source": [
    "##### Add Time of Prediction to Final Table"
   ]
  },
  {
   "cell_type": "code",
   "execution_count": null,
   "metadata": {},
   "outputs": [],
   "source": [
    "final_table = final_table.merge(prediction_time_table, on=\"Flight ID\", how=\"outer\")"
   ]
  },
  {
   "cell_type": "markdown",
   "metadata": {},
   "source": [
    "##### Sort Final Final Table by Time of Prediction"
   ]
  },
  {
   "cell_type": "code",
   "execution_count": null,
   "metadata": {},
   "outputs": [],
   "source": [
    "final_table = final_table.sort_values('Time of Prediction')"
   ]
  },
  {
   "cell_type": "markdown",
   "metadata": {},
   "source": [
    "##### Remove Flights without Time of Prediction"
   ]
  },
  {
   "cell_type": "code",
   "execution_count": null,
   "metadata": {},
   "outputs": [],
   "source": [
    "final_table = final_table.loc[~final_table['Time of Prediction'].isna()]\n",
    "final_table = final_table.reset_index(drop=True)"
   ]
  },
  {
   "cell_type": "markdown",
   "metadata": {},
   "source": [
    "### Add Weather Data to Final Final Table"
   ]
  },
  {
   "cell_type": "markdown",
   "metadata": {},
   "source": [
    "##### Define Function to find the closest METAR"
   ]
  },
  {
   "cell_type": "code",
   "execution_count": null,
   "metadata": {},
   "outputs": [],
   "source": [
    "# Function to find the closest METAR to a timestamp of a flight in the past or at the same time\n",
    "def find_closest_past_metar(timestamp, meteo_times):\n",
    "    # Calculate time difference\n",
    "    time_diff = meteo_times - timestamp\n",
    "    # Filter out future METAR times (i.e., positive time differences)\n",
    "    past_times = time_diff[time_diff <= pd.Timedelta(0)]\n",
    "    \n",
    "    # If there are no past times available, return None or handle accordingly\n",
    "    if past_times.empty:\n",
    "        return None\n",
    "\n",
    "    # Calculate absolute differences and find the closest\n",
    "    closest_index = past_times.abs().idxmin()  # Find closest index from past times\n",
    "    return closest_index"
   ]
  },
  {
   "cell_type": "markdown",
   "metadata": {},
   "source": [
    "##### Import of all METARS within Time periode"
   ]
  },
  {
   "cell_type": "code",
   "execution_count": null,
   "metadata": {},
   "outputs": [],
   "source": [
    "meteo_data = []\n",
    "for t1, t2 in zip(timestamps[:-1], timestamps[1:]):\n",
    "        print(t1, t2)\n",
    "        tmp = metar.METAR('LSZH').get(\n",
    "             start=str(t1),\n",
    "             stop=str(t2),\n",
    "        )\n",
    "        if tmp is not None:\n",
    "            meteo_data.append(tmp)       \n",
    " \n",
    "meteo = pd.concat(meteo_data)\n",
    "\n",
    "# Sort the DataFrame by time and reset the index\n",
    "meteo = meteo.sort_values(by=\"time\").reset_index(drop=True)"
   ]
  },
  {
   "cell_type": "markdown",
   "metadata": {},
   "source": [
    "##### Add weather data for each flight to the final Final Table based on the closest METAR"
   ]
  },
  {
   "cell_type": "code",
   "execution_count": null,
   "metadata": {},
   "outputs": [],
   "source": [
    "# Loop through each row in the DataFrame\n",
    "for flight in range(len(final_table)):\n",
    "    # Convert the time column to datetime objects\n",
    "    time = pd.to_datetime(final_table['Time of Prediction'].iloc[flight])\n",
    "    \n",
    "    # Find the index of the closest METAR report\n",
    "    idx = find_closest_past_metar(time, meteo['time'])\n",
    "    if not idx == None:\n",
    "    \n",
    "        # Get the corresponding values from the METAR DataFrame\n",
    "        wind_spd = meteo.wind_speed[idx]\n",
    "        wind_dir = meteo.wind_dir[idx]\n",
    "        visibility = meteo.vis[idx]\n",
    "        temperature = meteo.temp[idx]\n",
    "        \n",
    "        # Insert the values into the corresponding columns in 'final_table'\n",
    "        final_table.at[flight, 'Wind speed [kt]'] = wind_spd\n",
    "        final_table.at[flight, 'Wind direction [°]'] = wind_dir\n",
    "        final_table.at[flight, 'Visibility Category'] = visibility\n",
    "        final_table.at[flight, 'Temperature [°C]'] = temperature\n",
    "        final_table.at[flight, 'Meteo idx'] = idx\n"
   ]
  },
  {
   "cell_type": "markdown",
   "metadata": {},
   "source": [
    "##### Convert Temperature, Wind speed and Wind direction Data in Final Table to numerical values"
   ]
  },
  {
   "cell_type": "code",
   "execution_count": null,
   "metadata": {},
   "outputs": [],
   "source": [
    "# Convert all values in the relevant columns to strings\n",
    "final_table['Temperature [°C]'] = final_table['Temperature [°C]'].astype(str)\n",
    "final_table['Wind speed [kt]'] = final_table['Wind speed [kt]'].astype(str)\n",
    "final_table['Wind direction [°]'] = final_table['Wind direction [°]'].astype(str)\n",
    "\n",
    "# Clean the columns (e.g., remove leading/trailing spaces)\n",
    "final_table['Temperature [°C]'] = final_table['Temperature [°C]'].str.strip()\n",
    "final_table['Wind speed [kt]'] = final_table['Wind speed [kt]'].str.strip()\n",
    "final_table['Wind direction [°]'] = final_table['Wind direction [°]'].str.strip()\n",
    "\n",
    "# Replace empty strings or 'None' with NaN in the 'Wind direction [°]' column\n",
    "final_table['Wind direction [°]'] = final_table['Wind direction [°]'].replace(['None', ''], pd.NA)\n",
    "\n",
    "# Extract the numeric values (keeping negative numbers!)\n",
    "final_table['Temperature [°C]'] = final_table['Temperature [°C]'].str.extract(r'(-?\\d+\\.?\\d*)')\n",
    "final_table['Wind speed [kt]'] = final_table['Wind speed [kt]'].str.extract(r'(\\d+\\.?\\d*)')\n",
    "final_table['Wind direction [°]'] = final_table['Wind direction [°]'].str.extract(r'(\\d+\\.?\\d*)')\n",
    "\n",
    "# Convert the extracted values to floats\n",
    "final_table['Temperature [°C]'] = pd.to_numeric(final_table['Temperature [°C]'], errors='coerce').astype(float)\n",
    "final_table['Wind speed [kt]'] = pd.to_numeric(final_table['Wind speed [kt]'], errors='coerce').astype(float)\n",
    "final_table['Wind direction [°]'] = pd.to_numeric(final_table['Wind direction [°]'], errors='coerce').astype(float)\n"
   ]
  },
  {
   "cell_type": "markdown",
   "metadata": {},
   "source": [
    "##### Define Visibility categories"
   ]
  },
  {
   "cell_type": "code",
   "execution_count": null,
   "metadata": {},
   "outputs": [],
   "source": [
    "# Function to categorize visibility into categories\n",
    "def categorize_visibility(visibility):\n",
    "    if visibility <= 1000:\n",
    "        return 0  # Very poor\n",
    "    elif visibility <= 2000:\n",
    "        return 1  # Poor\n",
    "    elif visibility <= 3000:\n",
    "        return 2\n",
    "    elif visibility <= 4000:\n",
    "        return 3\n",
    "    elif visibility <= 5000:\n",
    "        return 4\n",
    "    elif visibility <= 6000:\n",
    "        return 5\n",
    "    elif visibility <= 7000:\n",
    "        return 6\n",
    "    elif visibility <= 8000:\n",
    "        return 7\n",
    "    elif visibility <= 9000:\n",
    "        return 8\n",
    "    elif visibility <= 10000:\n",
    "        return 9  # Good\n",
    "    else:\n",
    "        return 10  # Very good"
   ]
  },
  {
   "cell_type": "markdown",
   "metadata": {},
   "source": [
    "##### Transfer Visibility Data in final Final Table to visibility category"
   ]
  },
  {
   "cell_type": "code",
   "execution_count": null,
   "metadata": {},
   "outputs": [],
   "source": [
    "# Convert all values in the 'Visibility Category' column to strings\n",
    "final_table['Visibility Category'] = final_table['Visibility Category'].astype(str)\n",
    "\n",
    "# Clean the 'Visibility Category' column (e.g., remove leading/trailing spaces)\n",
    "final_table['Visibility Category'] = final_table['Visibility Category'].str.strip()\n",
    "\n",
    "# Replace empty strings or 'None' with NaN for better compatibility with ML\n",
    "final_table['Visibility Category'] = final_table['Visibility Category'].replace(['None', ''], pd.NA)\n",
    "\n",
    "# Conditional processing: If 'greater than' is present, set the value to '12000',\n",
    "# otherwise extract the number as an integer or float\n",
    "final_table['Visibility Category'] = final_table['Visibility Category'].apply(\n",
    "    lambda x: 12000 if isinstance(x, str) and 'greater than' in x.lower() else x\n",
    ")\n",
    "\n",
    "# For all non-'greater than' values, extract the number and keep it as a float (NaN for missing)\n",
    "final_table['Visibility Category'] = final_table['Visibility Category'].apply(\n",
    "    lambda x: pd.to_numeric(x.split()[0], errors='coerce') if isinstance(x, str) else x\n",
    ")\n",
    "\n",
    "# Ensure the final column is numeric with NaN for missing values\n",
    "final_table['Visibility Category'] = pd.to_numeric(final_table['Visibility Category'], errors='coerce')\n",
    "\n",
    "\n",
    "# Apply the visibility categorization directly to the 'Visibility Category' column\n",
    "final_table['Visibility Category'] = final_table['Visibility Category'].apply(categorize_visibility)\n"
   ]
  },
  {
   "cell_type": "markdown",
   "metadata": {},
   "source": [
    "##### Import Precipitation (Open-Meteo)"
   ]
  },
  {
   "cell_type": "code",
   "execution_count": null,
   "metadata": {},
   "outputs": [],
   "source": [
    "# Coordinates for Zurich Airport RWY 14\n",
    "latitude = 47.473626\n",
    "longitude = 8.547640\n",
    "\n",
    "# Convert start and stop times to datetime format\n",
    "start_datetime = pd.to_datetime(start)\n",
    "stop_datetime = pd.to_datetime(stop)\n",
    "\n",
    "# Extract the date in \"YYYY-MM-DD\" format\n",
    "start_date = start_datetime.strftime(\"%Y-%m-%d\")\n",
    "end_date = stop_datetime.strftime(\"%Y-%m-%d\")\n",
    "hourly = \"precipitation\"\n",
    "\n",
    "# Fetch weather data from Open-Meteo\n",
    "url = f\"https://archive-api.open-meteo.com/v1/era5?latitude={latitude}&longitude={longitude}&start_date={start_date}&end_date={end_date}&hourly={hourly}\"\n",
    "response = requests.get(url)\n",
    "data = response.json()\n",
    "\n",
    "# Create a Pandas DataFrame with timestamps and precipitation data\n",
    "meteo_df = pd.DataFrame({\n",
    "    'Timestamp': pd.to_datetime(data['hourly']['time']),\n",
    "    'Precipitation [mm]': data['hourly']['precipitation']\n",
    "})\n",
    "\n",
    "# Optional: Ensure the timestamps are localized to UTC if needed\n",
    "meteo_df['Timestamp'] = meteo_df['Timestamp'].dt.tz_localize('UTC')\n"
   ]
  },
  {
   "cell_type": "markdown",
   "metadata": {},
   "source": [
    "##### Define function to find clostes Precipitation Data"
   ]
  },
  {
   "cell_type": "code",
   "execution_count": null,
   "metadata": {},
   "outputs": [],
   "source": [
    "# Function to determine the nearest precipitation value to the flight timestamp in the past or at the same time\n",
    "def find_closest_past_precipitation(flight_time, meteo_df):\n",
    "    # Filter out future precipitation times (i.e., only keep timestamps in the past or at the same time)\n",
    "    past_times_df = meteo_df[meteo_df['Timestamp'] <= flight_time]\n",
    "\n",
    "    # If there are no past times available, return None\n",
    "    if past_times_df.empty:\n",
    "        return None\n",
    "\n",
    "    # Calculate the time differences\n",
    "    time_diff = (past_times_df['Timestamp'] - flight_time).abs()\n",
    "\n",
    "    # Find the index of the minimum time difference (i.e., closest past time)\n",
    "    closest_index = time_diff.idxmin()\n",
    "    \n",
    "    return closest_index"
   ]
  },
  {
   "cell_type": "markdown",
   "metadata": {},
   "source": [
    "##### Add closest Precipitation Data to Final Table"
   ]
  },
  {
   "cell_type": "code",
   "execution_count": null,
   "metadata": {},
   "outputs": [],
   "source": [
    "# Loop through each flight time in 'final_table' to find the closest precipitation value\n",
    "for flight in range(len(final_table)):\n",
    "    # Temporary conversion of 'Time of Prediction' to datetime without changing the original final_table format\n",
    "    flight_time = pd.to_datetime(final_table['Time of Prediction'].iloc[flight], errors='coerce')\n",
    "    \n",
    "    # Check if the conversion was successful\n",
    "    if pd.notna(flight_time):  # Valid datetime object\n",
    "        # Find the index of the closest precipitation data in the past or at the same time\n",
    "        idx = find_closest_past_precipitation(flight_time, meteo_df)\n",
    "\n",
    "        if idx is not None:\n",
    "            # Get the corresponding precipitation value and timestamp\n",
    "            precipitation_value = meteo_df.loc[idx, 'Precipitation [mm]']\n",
    "            corresponding_timestamp = meteo_df.loc[idx, 'Timestamp']\n",
    "\n",
    "            # Insert the precipitation value and timestamp into the corresponding columns in 'final_table'\n",
    "            final_table.at[flight, 'Precipitation [mm]'] = precipitation_value\n",
    "            final_table.at[flight, 'Precipitation idx'] = idx\n",
    "            final_table.at[flight, 'Precipitation Timestamp'] = corresponding_timestamp\n",
    "        else:\n",
    "            # No valid past time found, set value to None\n",
    "            final_table.at[flight, 'Precipitation [mm]'] = None\n",
    "            final_table.at[flight, 'Precipitation idx'] = None\n",
    "            final_table.at[flight, 'Precipitation Timestamp'] = None\n",
    "\n",
    "    else:\n",
    "        # Handle cases where datetime conversion fails\n",
    "        final_table.at[flight, 'Precipitation [mm]'] = None\n",
    "        final_table.at[flight, 'Precipitation idx'] = None\n",
    "        final_table.at[flight, 'Precipitation Timestamp'] = None\n"
   ]
  },
  {
   "cell_type": "markdown",
   "metadata": {},
   "source": [
    "##### Cyclic encoding of Time of Prediction"
   ]
  },
  {
   "cell_type": "code",
   "execution_count": null,
   "metadata": {},
   "outputs": [],
   "source": [
    "# Sample structure based on your 'Time of Prediction' column\n",
    "final_table['Hour'] = final_table['Time of Prediction'].dt.hour\n",
    "final_table['Minute'] = final_table['Time of Prediction'].dt.minute\n",
    "final_table['Day of week'] = final_table['Time of Prediction'].dt.weekday\n",
    "final_table['Month'] = final_table['Time of Prediction'].dt.month\n",
    "final_table['Year'] = final_table['Time of Prediction'].dt.year % 100  # Using modulo 100 for 'year' cyclic encoding\n",
    "\n",
    "# Function to apply encoding to one column\n",
    "def cyclic_enc(df, feature, max_val):\n",
    "    df[feature + \" sin\"] = (\n",
    "        0.5 * np.sin(2 * np.pi * df[feature] / max_val) + 0.5\n",
    "    )\n",
    "    df[feature + \" cos\"] = (\n",
    "        0.5 * np.cos(2 * np.pi * df[feature] / max_val) + 0.5\n",
    "    )\n",
    "    return df\n",
    "\n",
    "def encode_df(df):\n",
    "    # Cyclic encoding of hour, minute, weekday, month, and year\n",
    "    df = cyclic_enc(df, 'Hour', 24)\n",
    "    df = cyclic_enc(df, 'Minute', 60)\n",
    "    df = cyclic_enc(df, 'Day of week', 7)\n",
    "    df = cyclic_enc(df, 'Month', 12)\n",
    "    df = cyclic_enc(df, 'Year', 100)\n",
    "    \n",
    "    # Drop original columns after encoding\n",
    "    df = df.drop(columns=['Hour', 'Minute', 'Day of week', 'Month', 'Year'])\n",
    "    return df\n",
    "\n",
    "# Apply encoding to the dataset\n",
    "final_table = encode_df(final_table)\n"
   ]
  },
  {
   "cell_type": "markdown",
   "metadata": {},
   "source": [
    "##### Remove Flights without Time of Prediction"
   ]
  },
  {
   "cell_type": "code",
   "execution_count": null,
   "metadata": {},
   "outputs": [],
   "source": [
    "final_table = final_table.loc[~final_table['Time of Prediction'].isna()]"
   ]
  },
  {
   "cell_type": "markdown",
   "metadata": {},
   "source": [
    "##### Determine Day or Night Status Based on Sun's Position at 'Time of Prediction'"
   ]
  },
  {
   "cell_type": "code",
   "execution_count": null,
   "metadata": {},
   "outputs": [],
   "source": [
    "# Define location information (Zurich Airport)\n",
    "location = LocationInfo(\"Zurich Airport\", \"Switzerland\", \"Europe/Zurich\", latitude, longitude)\n",
    "\n",
    "# Function to determine if it is day or night based on the timestamp\n",
    "def is_daytime(timestamp):\n",
    "    # Calculate sunrise and sunset times for the date of the timestamp\n",
    "    s = sun(location.observer, date=timestamp.date())\n",
    "    sunrise = s['sunrise']\n",
    "    sunset = s['sunset']\n",
    "    \n",
    "    # Check if the timestamp is between sunrise and sunset\n",
    "    return sunrise <= timestamp <= sunset\n",
    "\n",
    "# Apply the function to the 'Time of Prediction' column and create a new 'Day/Night' column\n",
    "final_table['Day/Night'] = final_table['Time of Prediction'].apply(lambda x: 'Day' if is_daytime(x) else 'Night')\n"
   ]
  },
  {
   "cell_type": "markdown",
   "metadata": {},
   "source": [
    "##### Add additional Wind data and cyclic encode wind data"
   ]
  },
  {
   "cell_type": "code",
   "execution_count": null,
   "metadata": {},
   "outputs": [],
   "source": [
    "# 1. `No Wind`: Wind speed is 0\n",
    "final_table['No Wind'] = final_table['Wind speed [kt]'] == 0\n",
    "\n",
    "# 2. `Wind Variable`: Wind direction is NaN, but wind speed > 0\n",
    "final_table['Wind Variable'] = final_table.apply(\n",
    "    lambda row: pd.isna(row['Wind direction [°]']) and row['Wind speed [kt]'] > 0,\n",
    "    axis=1\n",
    ")\n",
    "\n",
    "# 3. Transform wind direction into sine/cosine\n",
    "# Process only valid wind directions\n",
    "final_table['Wind direction sin_raw'] = np.sin(np.deg2rad(final_table['Wind direction [°]']))\n",
    "final_table['Wind direction cos_raw'] = np.cos(np.deg2rad(final_table['Wind direction [°]']))\n",
    "\n",
    "# 4. Scale sine/cosine values to the range [0, 1]\n",
    "final_table['Wind direction sin'] = (final_table['Wind direction sin_raw'] + 1) / 2\n",
    "final_table['Wind direction cos'] = (final_table['Wind direction cos_raw'] + 1) / 2\n",
    "\n",
    "# Set sine/cosine values to 0 for \"No Wind\" and \"Wind Variable\"\n",
    "final_table.loc[final_table['No Wind'] | final_table['Wind Variable'], ['Wind direction sin', 'Wind direction cos']] = 0\n",
    "\n",
    "# Remove unnecessary intermediate columns\n",
    "final_table.drop(columns=['Wind direction sin_raw', 'Wind direction cos_raw'], inplace=True)\n",
    "\n",
    "final_table"
   ]
  },
  {
   "cell_type": "markdown",
   "metadata": {},
   "source": [
    "##### Determine Head- and Crosswind Components based on Wind Data"
   ]
  },
  {
   "cell_type": "code",
   "execution_count": null,
   "metadata": {},
   "outputs": [],
   "source": [
    "runway_direction = airports['LSZH'].runways.data.bearing.loc[2]\n",
    "\n",
    "# Convert runway direction to radians\n",
    "runway_rad = np.radians(runway_direction)\n",
    "\n",
    "# Calculate and round Headwind and Crosswind to two decimal places\n",
    "final_table['Headwind [kt]'] = final_table.apply(\n",
    "    lambda row: round(row['Wind speed [kt]'] * np.cos(np.radians(row['Wind direction [°]']) - runway_rad), 2) \n",
    "    if pd.notna(row['Wind speed [kt]']) and pd.notna(row['Wind direction [°]']) else np.nan, axis=1\n",
    ")\n",
    "\n",
    "final_table['Crosswind [kt]'] = final_table.apply(\n",
    "    lambda row: round(row['Wind speed [kt]'] * np.sin(np.radians(row['Wind direction [°]']) - runway_rad), 2) \n",
    "    if pd.notna(row['Wind speed [kt]']) and pd.notna(row['Wind direction [°]']) else np.nan, axis=1\n",
    ")\n",
    "# Display the updated DataFrame to confirm the new columns\n",
    "final_table"
   ]
  },
  {
   "cell_type": "markdown",
   "metadata": {},
   "source": [
    "##### Determine Airport Runway Movements in the last 15 Minutes prior to the Prediction Time"
   ]
  },
  {
   "cell_type": "code",
   "execution_count": null,
   "metadata": {},
   "outputs": [],
   "source": [
    "def runway_movements(flight):\n",
    "    time_interval = 15 # minutes\n",
    "    time_interval = pd.Timedelta(minutes=time_interval)\n",
    "    prediction_time = flight.stop\n",
    "\n",
    "    if not prediction_time == None:\n",
    "        lower_time_bound = prediction_time-time_interval\n",
    "        event_table_interval = table[(table['Entry Time'] >= lower_time_bound) & (table['Entry Time'] < prediction_time)]\n",
    "\n",
    "        total_events_table_rwy_10 = event_table_interval[event_table_interval['Runway'] == '10']\n",
    "        total_events_table_rwy_14 = event_table_interval[event_table_interval['Runway'] == '14']\n",
    "        total_events_table_rwy_16 = event_table_interval[event_table_interval['Runway'] == '16']\n",
    "        total_events_table_rwy_28 = event_table_interval[event_table_interval['Runway'] == '28']\n",
    "        total_events_table_rwy_32 = event_table_interval[event_table_interval['Runway'] == '32']\n",
    "        total_events_table_rwy_34 = event_table_interval[event_table_interval['Runway'] == '34']\n",
    "\n",
    "\n",
    "        total_arrivals_table = event_table_interval[(event_table_interval['Event'] == 'Landing') | (event_table_interval['Event'] == 'Go-around')]\n",
    "\n",
    "        total_arrivals_rwy_16 = total_arrivals_table[total_arrivals_table['Runway'] == '16']\n",
    "        total_arrivals_rwy_28 = total_arrivals_table[total_arrivals_table['Runway'] == '28']\n",
    "        total_arrivals_rwy_34 = total_arrivals_table[total_arrivals_table['Runway'] == '34']\n",
    "\n",
    "        total_departures_table = event_table_interval[event_table_interval['Event'] == 'Takeoff']\n",
    "\n",
    "        total_departures_rwy_16 = total_departures_table[total_departures_table['Runway'] == '16']\n",
    "        total_departures_rwy_28 = total_departures_table[total_departures_table['Runway'] == '28']\n",
    "        total_departures_rwy_34 = total_departures_table[total_departures_table['Runway'] == '34']\n",
    "\n",
    "        total_rwy_10_events = len(total_events_table_rwy_10)\n",
    "        total_rwy_14_events = len(total_events_table_rwy_14)\n",
    "\n",
    "        departures_rwy_16 = len(total_departures_rwy_16)\n",
    "        arrivals_rwy_16 = len(total_arrivals_rwy_16)\n",
    "        total_rwy_16_events = len(total_events_table_rwy_16)\n",
    "\n",
    "        departures_rwy_28 = len(total_departures_rwy_28)\n",
    "        arrivals_rwy_28 = len(total_arrivals_rwy_28)\n",
    "        total_rwy_28_events = len(total_events_table_rwy_28)\n",
    "\n",
    "        total_rwy_32_events = len(total_events_table_rwy_32)\n",
    "\n",
    "        departures_rwy_34 = len(total_departures_rwy_34)\n",
    "        arrivals_rwy_34 = len(total_arrivals_rwy_34)\n",
    "        total_rwy_34_events = len(total_events_table_rwy_34)\n",
    "\n",
    "        departures_airport_events = len(total_departures_table)\n",
    "        arrivals_airport_events = len(total_arrivals_table)\n",
    "        total_airport_events = len(event_table_interval)\n",
    "\n",
    "        return {\n",
    "            \"Flight ID\": flight.flight_id,\n",
    "            \"Traffic Intensity RWY 10\": total_rwy_10_events,\n",
    "            \"Traffic Intensity RWY 14\": total_rwy_14_events,\n",
    "            \"Departure Traffic Intensity RWY 16\": departures_rwy_16,\n",
    "            \"Arrival Traffic Intensity RWY 16\": arrivals_rwy_16,\n",
    "            \"Traffic Intensity RWY 16\": total_rwy_16_events,\n",
    "            \"Departure Traffic Intensity RWY 28\": departures_rwy_28,\n",
    "            \"Arrival Traffic Intensity RWY 28\": arrivals_rwy_28,\n",
    "            \"Traffic Intensity RWY 28\": total_rwy_28_events,\n",
    "            \"Traffic Intensity RWY 32\": total_rwy_32_events,\n",
    "            \"Departure Traffic Intensity RWY 34\": departures_rwy_34,\n",
    "            \"Arrival Traffic Intensity RWY 34\": arrivals_rwy_34,\n",
    "            \"Traffic Intensity RWY 34\": total_rwy_34_events,\n",
    "            \"Airport Departure Traffic Intensity\": departures_airport_events,\n",
    "            \"Airport Arrival Traffic Intensity\": arrivals_airport_events,\n",
    "            \"Total Airport Traffic Intensity\": total_airport_events,\n",
    "        }\n",
    "\n"
   ]
  },
  {
   "cell_type": "code",
   "execution_count": null,
   "metadata": {},
   "outputs": [],
   "source": [
    "traffic_intensity_table = trajs_required.iterate_lazy().pipe(runway_movements).eval(max_workers=40, desc=\"Processing\")"
   ]
  },
  {
   "cell_type": "code",
   "execution_count": null,
   "metadata": {},
   "outputs": [],
   "source": [
    "final_table = final_table.merge(traffic_intensity_table, on=\"Flight ID\", how=\"outer\")"
   ]
  },
  {
   "cell_type": "markdown",
   "metadata": {},
   "source": [
    "##### Determine Time Buffer betweeen succesive Landings (Exit Time - Entry Time)"
   ]
  },
  {
   "cell_type": "code",
   "execution_count": null,
   "metadata": {},
   "outputs": [],
   "source": [
    "# Sort the final_table by \"Entry Time\" to ensure chronological order\n",
    "final_table = final_table.sort_values(by=\"Entry Time\").reset_index(drop=True)\n",
    "\n",
    "# Retrieve the previous aircraft's exit time\n",
    "final_table[\"Previous Exit Time\"] = final_table[\"Exit Time\"].shift(1)\n",
    "\n",
    "# Calculate the time buffer between runway exit and the next entry\n",
    "final_table[\"Time Reserve [s]\"] = (final_table[\"Entry Time\"] - final_table[\"Previous Exit Time\"]).dt.total_seconds()\n",
    "\n",
    "# Remove the intermediate column\n",
    "final_table = final_table.drop(columns='Previous Exit Time')\n"
   ]
  },
  {
   "cell_type": "markdown",
   "metadata": {},
   "source": [
    "#### Determine Traffic Information before Prediction Aircraft"
   ]
  },
  {
   "cell_type": "markdown",
   "metadata": {},
   "source": [
    "##### Get all RWY Events on RWY14 (Approach and Go-Around)"
   ]
  },
  {
   "cell_type": "code",
   "execution_count": null,
   "metadata": {},
   "outputs": [],
   "source": [
    "table_rwy_14 = table[table['Runway'] == '14']\n",
    "table_rwy_14 = table_rwy_14.reset_index(drop=True)"
   ]
  },
  {
   "cell_type": "markdown",
   "metadata": {},
   "source": [
    "##### Define Reference Point for Distance Measurement"
   ]
  },
  {
   "cell_type": "code",
   "execution_count": null,
   "metadata": {},
   "outputs": [],
   "source": [
    "threshold_32 = airports['LSZH'].runways.list[3]"
   ]
  },
  {
   "cell_type": "markdown",
   "metadata": {},
   "source": [
    "##### Function to determine basic information about preceding traffic"
   ]
  },
  {
   "cell_type": "code",
   "execution_count": null,
   "metadata": {},
   "outputs": [],
   "source": [
    "def determine_previous_traffic(flight):\n",
    "    prediction_time = flight.stop\n",
    "    entry_time = final_table['Entry Time'].loc[final_table['Flight ID'] == flight.flight_id].iloc[0]\n",
    "\n",
    "    if prediction_time is None:\n",
    "        return None\n",
    "    \n",
    "    previous_traffic_table = table_rwy_14[(table_rwy_14['Exit Time'] >= prediction_time) & (table_rwy_14['Exit Time'] < entry_time)]\n",
    "    number = len(previous_traffic_table)\n",
    "\n",
    "    if not previous_traffic_table.empty:\n",
    "        flight_id = previous_traffic_table['Flight ID'].iloc[-1]\n",
    "\n",
    "        ac_type = previous_traffic_table['A/C Type'].iloc[-1]\n",
    "        icao_code = previous_traffic_table['ICAO Code'].iloc[-1]\n",
    "        icao_aricraft_typ = previous_traffic_table['ICAO Aircraft Type'].iloc[-1]\n",
    "        number_engines = previous_traffic_table['Number of Engines'].iloc[-1]\n",
    "        propulsion_type = previous_traffic_table['Propulsion Type'].iloc[-1]\n",
    "        malw = previous_traffic_table['MALW [kg]'].iloc[-1]\n",
    "        iwtc = previous_traffic_table['ICAO Weight Turbulence Category'].iloc[-1]\n",
    "        gate = previous_traffic_table['Gate Region'].iloc[-1]\n",
    "        distance = flight.distance(threshold_32).data['distance'].iloc[-1]\n",
    "\n",
    "\n",
    "        return {\n",
    "            \"Flight ID\": flight.flight_id,\n",
    "            \"Number of preceding Traffic\": number,\n",
    "            \"Preceding Traffic ICAO Code\": icao_code,\n",
    "            \"Preceding Traffic A/C Type\": ac_type,\n",
    "            \"Preceding Traffic ICAO Aircraft Type\": icao_aricraft_typ,\n",
    "            \"Preceding Traffic Propulsion Type\": propulsion_type,\n",
    "            \"Preceding Traffic Number of Engines\": number_engines,\n",
    "            \"Preceding Traffic MALW [kg]\": malw,\n",
    "            \"Preceding Traffic ICAO Weight Turbulence Category\": iwtc,\n",
    "            \"Preceding Traffic Gate\": gate,\n",
    "            \"Flight ID preceding Traffic\": flight_id,\n",
    "            \"Prediction Time\": prediction_time,\n",
    "            \"Entry Time\": entry_time,\n",
    "            \"Distance\": distance\n",
    "    }\n",
    "\n",
    "    return {\n",
    "        \"Flight ID\": flight.flight_id,\n",
    "        \"Number of preceding Traffic\": 0\n",
    "    }"
   ]
  },
  {
   "cell_type": "code",
   "execution_count": null,
   "metadata": {},
   "outputs": [],
   "source": [
    "preceding_traffic_info_table = trajs_required.iterate_lazy().pipe(determine_previous_traffic).eval(max_workers=40, desc=\"Processing\")"
   ]
  },
  {
   "cell_type": "markdown",
   "metadata": {},
   "source": [
    "##### Create Dataframe with required Flights and their distance to the reference point"
   ]
  },
  {
   "cell_type": "code",
   "execution_count": null,
   "metadata": {},
   "outputs": [],
   "source": [
    "preceding_ids = preceding_traffic_info_table['Flight ID preceding Traffic'].dropna().unique()"
   ]
  },
  {
   "cell_type": "code",
   "execution_count": null,
   "metadata": {},
   "outputs": [],
   "source": [
    "trajs_preceding_traffic = trajs_required_complete[preceding_ids]"
   ]
  },
  {
   "cell_type": "code",
   "execution_count": null,
   "metadata": {},
   "outputs": [],
   "source": [
    "trajs_preceding_traffic.to_parquet('debug_trajs_preceding_traffic.parquet')"
   ]
  },
  {
   "cell_type": "code",
   "execution_count": null,
   "metadata": {},
   "outputs": [],
   "source": [
    "trajs_preceding_traffic = trajs_preceding_traffic.distance(threshold_32).eval(max_workers=1, desc=\"Processing\")"
   ]
  },
  {
   "cell_type": "markdown",
   "metadata": {},
   "source": [
    "##### Function to determine the altitude, speed and distance of the preceding flight at the prediction time"
   ]
  },
  {
   "cell_type": "code",
   "execution_count": null,
   "metadata": {},
   "outputs": [],
   "source": [
    "def preceding_traffic_distance(flight):\n",
    "    table_row = preceding_traffic_info_table[preceding_traffic_info_table['Flight ID preceding Traffic'] == flight.flight_id]\n",
    "    if not table_row.empty:\n",
    "        prediction_time = table_row['Prediction Time'].iloc[0]\n",
    "        distance_pred = table_row['Distance'].iloc[0]\n",
    "        pre_prediction_point = flight.at(prediction_time)\n",
    "        alt = pre_prediction_point['geoaltitude']\n",
    "        speed = pre_prediction_point['groundspeed']\n",
    "        distance = pre_prediction_point['distance']\n",
    "\n",
    "        distance_difference = distance_pred-distance\n",
    "\n",
    "        flight_id = table_row['Flight ID'].iloc[0]\n",
    "\n",
    "\n",
    "        return {\n",
    "            \"Flight ID\": flight_id,\n",
    "            \"Preceding Aircraft Geoaltitude\": alt,\n",
    "            \"Preceding Aircraft Speed\": speed,\n",
    "            \"Distance to Preceding Aircraft\": distance_difference,\n",
    "        }"
   ]
  },
  {
   "cell_type": "code",
   "execution_count": null,
   "metadata": {},
   "outputs": [],
   "source": [
    "preceding_traffic_distance_table = trajs_preceding_traffic.iterate_lazy().pipe(preceding_traffic_distance).eval(max_workers=40, desc='Processing')"
   ]
  },
  {
   "cell_type": "code",
   "execution_count": null,
   "metadata": {},
   "outputs": [],
   "source": [
    "del trajs_preceding_traffic"
   ]
  },
  {
   "cell_type": "markdown",
   "metadata": {},
   "source": [
    "##### Add Data about the preceding flight to the final final_table"
   ]
  },
  {
   "cell_type": "code",
   "execution_count": null,
   "metadata": {},
   "outputs": [],
   "source": [
    "complete_preceding_traffic_table = preceding_traffic_info_table.merge(preceding_traffic_distance_table, on='Flight ID', how='outer')\n",
    "complete_preceding_traffic_table = complete_preceding_traffic_table.drop(columns=['Flight ID preceding Traffic', 'Prediction Time', 'Entry Time', 'Distance'])\n",
    "final_table = final_table.merge(complete_preceding_traffic_table, on='Flight ID', how='outer')\n",
    "final_table = final_table.sort_values('Time of Prediction')\n",
    "final_table = final_table.reset_index(drop=True)\n",
    "del complete_preceding_traffic_table\n",
    "del preceding_traffic_info_table"
   ]
  },
  {
   "cell_type": "markdown",
   "metadata": {},
   "source": [
    "#### Get Traffic Information of successiv traffic"
   ]
  },
  {
   "cell_type": "code",
   "execution_count": null,
   "metadata": {},
   "outputs": [],
   "source": [
    "airborne_dataframe = trajs_required_airborne.data\n",
    "del trajs_required_airborne"
   ]
  },
  {
   "cell_type": "markdown",
   "metadata": {},
   "source": [
    "#### Save Variables for Debugging"
   ]
  },
  {
   "cell_type": "code",
   "execution_count": null,
   "metadata": {},
   "outputs": [],
   "source": [
    "final_table.to_csv('debug_final_table.csv', index=False)"
   ]
  },
  {
   "cell_type": "code",
   "execution_count": null,
   "metadata": {},
   "outputs": [],
   "source": [
    "table_rwy_14.to_csv('debug_table_rwy_14.csv', index=False)"
   ]
  },
  {
   "cell_type": "code",
   "execution_count": null,
   "metadata": {},
   "outputs": [],
   "source": [
    "trajs_required.to_parquet('debug_trajs_required.parquet')"
   ]
  },
  {
   "cell_type": "code",
   "execution_count": null,
   "metadata": {},
   "outputs": [],
   "source": [
    "airborne_dataframe.to_parquet('debug_airborne_dataframe.parquet')"
   ]
  },
  {
   "cell_type": "code",
   "execution_count": null,
   "metadata": {},
   "outputs": [],
   "source": [
    "airborne_dataframe = pd.read_parquet('debug_airborne_dataframe.parquet')"
   ]
  },
  {
   "cell_type": "markdown",
   "metadata": {},
   "source": [
    "##### Function to determine information about successive traffic"
   ]
  },
  {
   "cell_type": "code",
   "execution_count": null,
   "metadata": {},
   "outputs": [],
   "source": [
    "def successive_traffic(flight):\n",
    "    time_th = 10 # minutes\n",
    "    time_distance = 6 # minutes\n",
    "    flight_id = flight.flight_id\n",
    "    prediction_time = final_table['Time of Prediction'][final_table['Flight ID'] == flight_id].iloc[0]\n",
    "    idx_flight = table_rwy_14.index[(table_rwy_14['Flight ID'] == flight_id) & (table_rwy_14['Event'] == 'Landing')].tolist()[0]\n",
    "    upper_time_bound = prediction_time + pd.Timedelta(minutes=time_th)\n",
    "    distance_time_bound = prediction_time + pd.Timedelta(minutes=time_distance)\n",
    "    flight_data = flight.at(prediction_time)\n",
    "    lat, lon = flight_data['latitude'], flight_data['longitude']\n",
    "\n",
    "    dataframe = table_rwy_14[(table_rwy_14['Entry Time'] < upper_time_bound)]\n",
    "    dataframe = dataframe.loc[idx_flight+1:]\n",
    "    number = len(dataframe)\n",
    "    if number > 0:\n",
    "        dataframe = dataframe[(dataframe['Entry Time'] < distance_time_bound)]\n",
    "        if not dataframe.empty:\n",
    "            traffic_id = dataframe['Flight ID'].iloc[0]\n",
    "            traffic_ac = dataframe['A/C Type'].iloc[0]\n",
    "\n",
    "            traffic_data = airborne_dataframe[airborne_dataframe['timestamp'] == prediction_time]\n",
    "            traffic_data = traffic_data[traffic_data['flight_id'] == traffic_id]\n",
    "            if not traffic_data.empty:\n",
    "                traffic_altitude = traffic_data['geoaltitude'].iloc[0]\n",
    "                traffic_speed = traffic_data['groundspeed'].iloc[0]\n",
    "                trafic_track = traffic_data['track'].iloc[0]\n",
    "                traffic_vert_rate = traffic_data['vertical_rate'].iloc[0]\n",
    "                \n",
    "\n",
    "                lat_traffic, lon_traffic = traffic_data['latitude'].iloc[0], traffic_data['longitude'].iloc[0]\n",
    "\n",
    "                coord_pred = (lat, lon)\n",
    "                coord_traf = (lat_traffic, lon_traffic)\n",
    "                distance = geodesic(coord_pred, coord_traf).nm\n",
    "\n",
    "\n",
    "                return {\n",
    "                    \"Flight ID\": flight_id,\n",
    "                    \"Number of Successive Traffic\": number,\n",
    "                    \"Successive Traffic ID\": traffic_id,\n",
    "                    \"Successive Traffic A/C Type\": traffic_ac,\n",
    "                    \"Successive Traffic Geoaltitude\": traffic_altitude,\n",
    "                    \"Successive Traffic Groundspeed\": traffic_speed,\n",
    "                    \"Successive Traffic Track\": trafic_track,\n",
    "                    \"Successive Traffic Vertical Rate\": traffic_vert_rate,\n",
    "                    \"Successive Traffic Distance\": distance\n",
    "                }\n",
    "            else:\n",
    "                return {\n",
    "                    \"Flight ID\": flight_id,\n",
    "                    \"Number of Successive Traffic\": number\n",
    "                }\n",
    "\n",
    "    else:\n",
    "        return {\n",
    "            \"Flight ID\": flight_id,\n",
    "            \"Number of Successive Traffic\": 0\n",
    "        }\n"
   ]
  },
  {
   "cell_type": "code",
   "execution_count": null,
   "metadata": {},
   "outputs": [],
   "source": [
    "successive_traffic_table = trajs_required.iterate_lazy().pipe(successive_traffic).eval(max_workers=10, desc=\"Processing\")"
   ]
  },
  {
   "cell_type": "markdown",
   "metadata": {},
   "source": [
    "##### Add successive Flight Information to Final Table"
   ]
  },
  {
   "cell_type": "code",
   "execution_count": null,
   "metadata": {},
   "outputs": [],
   "source": [
    "final_table = final_table.merge(successive_traffic_table, on='Flight ID',how='outer')\n",
    "final_table = final_table.sort_values('Time of Prediction')\n",
    "final_table = final_table.reset_index(drop=True)"
   ]
  },
  {
   "cell_type": "markdown",
   "metadata": {},
   "source": [
    "##### Encode Successive Traffic Track"
   ]
  },
  {
   "cell_type": "code",
   "execution_count": null,
   "metadata": {},
   "outputs": [],
   "source": [
    "# Convert track angle to radians\n",
    "track_rad = np.deg2rad(final_table['Successive Traffic Track'])\n",
    "\n",
    "# Calculate sine & cosine and scale to range [0, 1]\n",
    "final_table['Successive Traffic Track sin'] = (np.sin(track_rad) + 1) / 2\n",
    "final_table['Successive Traffic Track cos'] = (np.cos(track_rad) + 1) / 2\n",
    "\n",
    "# If no successive traffic exists → set sin & cos to 0\n",
    "final_table.loc[final_table['Number of preceding Traffic'] == 0, ['Successive Traffic Track sin', 'Successive Traffic Track cos']] = 0\n"
   ]
  },
  {
   "cell_type": "markdown",
   "metadata": {},
   "source": [
    "##### Successor Aligned"
   ]
  },
  {
   "cell_type": "code",
   "execution_count": null,
   "metadata": {},
   "outputs": [],
   "source": [
    "rwy_heading = airports['LSZH'].runways.data['bearing'].loc[2]  # or dynamically from a column\n",
    "\n",
    "# Check alignment with runway heading (using cyclic correction for 0/360 wraparound)\n",
    "def is_aligned(track, heading, tolerance=5):\n",
    "    if pd.isna(track):\n",
    "        return False\n",
    "    diff = abs((track - heading + 180) % 360 - 180)\n",
    "    return diff <= tolerance  # return True if within tolerance\n",
    "\n",
    "# Create new column with alignment result\n",
    "final_table['Successor Aligned'] = final_table['Successive Traffic Track'].apply(lambda x: is_aligned(x, rwy_heading))\n"
   ]
  },
  {
   "cell_type": "code",
   "execution_count": null,
   "metadata": {},
   "outputs": [],
   "source": [
    "final_table.head(10)"
   ]
  },
  {
   "cell_type": "markdown",
   "metadata": {},
   "source": [
    "#### Determine ROT Trends"
   ]
  },
  {
   "cell_type": "markdown",
   "metadata": {},
   "source": [
    "##### Remove Extreme ROTs"
   ]
  },
  {
   "cell_type": "code",
   "execution_count": null,
   "metadata": {},
   "outputs": [],
   "source": [
    "final_table = final_table[final_table['ROT [s]'] < 150]\n",
    "final_table = final_table[final_table['ROT [s]'] > 36]"
   ]
  },
  {
   "cell_type": "code",
   "execution_count": null,
   "metadata": {},
   "outputs": [],
   "source": [
    "# Define new columns for the calculated metrics\n",
    "columns = [\n",
    "    'ROT Previous Flight [s]',\n",
    "    'Average ROT Previous 5 Flight [s]',\n",
    "    'Average ROT Previous Flight (Intensity) [s]',\n",
    "    'ROT Previous Flight same A/C Type [s]',\n",
    "    'Average ROT Previous 5 Flights same A/C Type [s]',\n",
    "    'Average ROT Previous Flight same A/C Type (Intensity) [s]',\n",
    "    'Average ROT Previous Flight same A/C Type Total [s]',\n",
    "    'ROT Previous Flight same ICAO Weight Category [s]',\n",
    "    'Average ROT Previous 5 Flights same ICAO Weight Category [s]',\n",
    "    'Average ROT Previous Flight same ICAO Weight Category (Intensity) [s]',\n",
    "    'Average ROT Previous Flight same ICAO Weight Category Total [s]',\n",
    "    'Average ROT Total [s]'\n",
    "]\n",
    "final_table[columns] = None\n",
    "\n",
    "# Iterate through each row in the final_table\n",
    "for i, row in final_table.iterrows():\n",
    "    flight_id = row['Flight ID']\n",
    "    time_of_prediction = row['Time of Prediction']\n",
    "    ac_type = row['A/C Type']\n",
    "    weight_category = row['ICAO Weight Turbulence Category']\n",
    "    \n",
    "    # Filter past flights with Exit Time before the current prediction time\n",
    "    relevant_flights = table_rwy_14[\n",
    "        (table_rwy_14['Flight ID'] != flight_id) &\n",
    "        (table_rwy_14['Exit Time'] < time_of_prediction)\n",
    "    ].sort_values(by='Exit Time', ascending=False)\n",
    "    \n",
    "    # ROT of the most recent flight\n",
    "    if not relevant_flights.empty:\n",
    "        final_table.at[i, 'ROT Previous Flight [s]'] = relevant_flights.iloc[0]['ROT [s]']\n",
    "    \n",
    "    # Average ROT of the last 5 flights\n",
    "    valid_rot_values = relevant_flights['ROT [s]'].iloc[:5].tolist()\n",
    "    if valid_rot_values:\n",
    "        final_table.at[i, 'Average ROT Previous 5 Flight [s]'] = sum(valid_rot_values) / len(valid_rot_values)\n",
    "    \n",
    "    # Average ROT of flights in the last 15 minutes (intensity)\n",
    "    recent_flights = relevant_flights[relevant_flights['Exit Time'] >= (time_of_prediction - pd.Timedelta(minutes=15))]\n",
    "    valid_rot_values_recent = recent_flights['ROT [s]'].tolist()\n",
    "    if valid_rot_values_recent:\n",
    "        final_table.at[i, 'Average ROT Previous Flight (Intensity) [s]'] = sum(valid_rot_values_recent) / len(valid_rot_values_recent)\n",
    "    \n",
    "    # --- Same A/C Type ---\n",
    "    relevant_same_ac_type = relevant_flights[relevant_flights['A/C Type'] == ac_type]\n",
    "    \n",
    "    # ROT of the most recent flight with the same A/C type\n",
    "    if not relevant_same_ac_type.empty:\n",
    "        final_table.at[i, 'ROT Previous Flight same A/C Type [s]'] = relevant_same_ac_type.iloc[0]['ROT [s]']\n",
    "    \n",
    "    # Average ROT of the last 5 flights with the same A/C type\n",
    "    valid_rot_values_same_ac_type = relevant_same_ac_type['ROT [s]'].iloc[:5].tolist()\n",
    "    if valid_rot_values_same_ac_type:\n",
    "        final_table.at[i, 'Average ROT Previous 5 Flights same A/C Type [s]'] = sum(valid_rot_values_same_ac_type) / len(valid_rot_values_same_ac_type)\n",
    "    \n",
    "    # Average ROT of same A/C type in the last 15 minutes\n",
    "    recent_same_ac_type = relevant_same_ac_type[relevant_same_ac_type['Exit Time'] >= (time_of_prediction - pd.Timedelta(minutes=15))]\n",
    "    valid_rot_values_intensity_same_ac_type = recent_same_ac_type['ROT [s]'].tolist()\n",
    "    if valid_rot_values_intensity_same_ac_type:\n",
    "        final_table.at[i, 'Average ROT Previous Flight same A/C Type (Intensity) [s]'] = sum(valid_rot_values_intensity_same_ac_type) / len(valid_rot_values_intensity_same_ac_type)\n",
    "    \n",
    "    # Average ROT of all past flights with the same A/C type\n",
    "    valid_rot_values_total_same_ac_type = relevant_same_ac_type['ROT [s]'].tolist()\n",
    "    if valid_rot_values_total_same_ac_type:\n",
    "        final_table.at[i, 'Average ROT Previous Flight same A/C Type Total [s]'] = sum(valid_rot_values_total_same_ac_type) / len(valid_rot_values_total_same_ac_type)\n",
    "    \n",
    "    # --- Same ICAO Weight Category ---\n",
    "    relevant_same_weight_category = relevant_flights[relevant_flights['ICAO Weight Turbulence Category'] == weight_category]\n",
    "    \n",
    "    # ROT of the most recent flight with the same weight category\n",
    "    if not relevant_same_weight_category.empty:\n",
    "        final_table.at[i, 'ROT Previous Flight same ICAO Weight Category [s]'] = relevant_same_weight_category.iloc[0]['ROT [s]']\n",
    "    \n",
    "    # Average ROT of the last 5 flights with the same weight category\n",
    "    valid_rot_values_same_weight_category = relevant_same_weight_category['ROT [s]'].iloc[:5].tolist()\n",
    "    if valid_rot_values_same_weight_category:\n",
    "        final_table.at[i, 'Average ROT Previous 5 Flights same ICAO Weight Category [s]'] = sum(valid_rot_values_same_weight_category) / len(valid_rot_values_same_weight_category)\n",
    "    \n",
    "    # Average ROT of flights with the same weight category in the last 15 minutes\n",
    "    recent_same_weight_category = relevant_same_weight_category[relevant_same_weight_category['Exit Time'] >= (time_of_prediction - pd.Timedelta(minutes=15))]\n",
    "    valid_rot_values_intensity_same_weight_category = recent_same_weight_category['ROT [s]'].tolist()\n",
    "    if valid_rot_values_intensity_same_weight_category:\n",
    "        final_table.at[i, 'Average ROT Previous Flight same ICAO Weight Category (Intensity) [s]'] = sum(valid_rot_values_intensity_same_weight_category) / len(valid_rot_values_intensity_same_weight_category)\n",
    "    \n",
    "    # Average ROT of all past flights with the same weight category\n",
    "    valid_rot_values_total_same_weight_category = relevant_same_weight_category['ROT [s]'].tolist()\n",
    "    if valid_rot_values_total_same_weight_category:\n",
    "        final_table.at[i, 'Average ROT Previous Flight same ICAO Weight Category Total [s]'] = sum(valid_rot_values_total_same_weight_category) / len(valid_rot_values_total_same_weight_category)\n",
    "\n",
    "    # Overall average ROT of all previous flights (total)\n",
    "    valid_rot_values_total = relevant_flights['ROT [s]'].tolist()\n",
    "    if valid_rot_values_total:\n",
    "        final_table.at[i, 'Average ROT Total [s]'] = sum(valid_rot_values_total) / len(valid_rot_values_total)\n"
   ]
  },
  {
   "cell_type": "code",
   "execution_count": null,
   "metadata": {},
   "outputs": [],
   "source": [
    "final_table = final_table.sort_values('Time of Prediction').reset_index(drop=True)"
   ]
  },
  {
   "cell_type": "code",
   "execution_count": null,
   "metadata": {},
   "outputs": [],
   "source": [
    "final_table.to_csv('Final_Table_raw.csv', index=False)\n",
    "table.to_csv('Table.csv', index=False)"
   ]
  },
  {
   "cell_type": "markdown",
   "metadata": {},
   "source": [
    "#### Remove unrealistic values"
   ]
  },
  {
   "cell_type": "code",
   "execution_count": null,
   "metadata": {},
   "outputs": [],
   "source": [
    "final_table.loc[final_table['Successive Traffic Geoaltitude'] > 15000, 'Successive Traffic Geoaltitude'] = 15000"
   ]
  },
  {
   "cell_type": "markdown",
   "metadata": {},
   "source": [
    "#### NaN Treatment"
   ]
  },
  {
   "cell_type": "markdown",
   "metadata": {},
   "source": [
    "##### Weather Features"
   ]
  },
  {
   "cell_type": "code",
   "execution_count": null,
   "metadata": {},
   "outputs": [],
   "source": [
    "# Fill missing wind direction values with 0\n",
    "final_table['Wind direction [°]'] = final_table['Wind direction [°]'].fillna(0)\n",
    "\n",
    "# Fill missing headwind values with total wind speed\n",
    "final_table['Headwind [kt]'] = final_table['Headwind [kt]'].fillna(final_table['Wind speed [kt]'])\n",
    "\n",
    "# Fill missing crosswind values with total wind speed\n",
    "final_table['Crosswind [kt]'] = final_table['Crosswind [kt]'].fillna(final_table['Wind speed [kt]'])\n"
   ]
  },
  {
   "cell_type": "markdown",
   "metadata": {},
   "source": [
    "##### Preceding Traffic Features"
   ]
  },
  {
   "cell_type": "code",
   "execution_count": null,
   "metadata": {},
   "outputs": [],
   "source": [
    "final_table['Preceding Traffic A/C Type'] = final_table['Preceding Traffic A/C Type'].fillna('None')\n",
    "final_table['Preceding Traffic ICAO Code'] = final_table['Preceding Traffic ICAO Code'].fillna('None')\n",
    "final_table['Preceding Traffic ICAO Aircraft Type'] = final_table['Preceding Traffic ICAO Aircraft Type'].fillna('None')\n",
    "final_table['Preceding Traffic Propulsion Type'] = final_table['Preceding Traffic Propulsion Type'].fillna('None')\n",
    "final_table['Preceding Traffic Number of Engines'] = final_table['Preceding Traffic Number of Engines'].fillna(0)\n",
    "final_table['Preceding Traffic MALW [kg]'] = final_table['Preceding Traffic MALW [kg]'].fillna(0)\n",
    "final_table['Preceding Traffic ICAO Weight Turbulence Category'] = final_table['Preceding Traffic ICAO Weight Turbulence Category'].fillna('None')\n",
    "final_table['Preceding Traffic Gate'] = final_table['Preceding Traffic Gate'].fillna('None')\n",
    "\n",
    "final_table['Preceding Aircraft Geoaltitude'] = final_table['Preceding Aircraft Geoaltitude'].fillna(final_table['Preceding Aircraft Geoaltitude'].min()-25)\n",
    "final_table['Preceding Aircraft Speed'] = final_table['Preceding Aircraft Speed'].fillna(0)\n",
    "final_table['Distance to Preceding Aircraft'] = final_table['Distance to Preceding Aircraft'].fillna(final_table['Distance to Preceding Aircraft'].max()+1)"
   ]
  },
  {
   "cell_type": "markdown",
   "metadata": {},
   "source": [
    "##### Successive Traffic Features"
   ]
  },
  {
   "cell_type": "code",
   "execution_count": null,
   "metadata": {},
   "outputs": [],
   "source": [
    "final_table['Number of Successive Traffic'] = final_table['Number of Successive Traffic'].fillna(0)\n",
    "final_table['Successive Traffic ID'] = final_table['Successive Traffic ID'].fillna('None')\n",
    "final_table['Successive Traffic A/C Type'] = final_table['Successive Traffic A/C Type'].fillna('None')\n",
    "final_table['Successive Traffic Geoaltitude'] = final_table['Successive Traffic Geoaltitude'].fillna(final_table['Successive Traffic Geoaltitude'].max()+1000)\n",
    "final_table['Successive Traffic Groundspeed'] = final_table['Successive Traffic Groundspeed'].fillna(final_table['Successive Traffic Groundspeed'].max()+10)\n",
    "final_table['Successive Traffic Track'] = final_table['Successive Traffic Track'].fillna(rwy_heading+180)\n",
    "final_table['Successive Traffic Vertical Rate'] = final_table['Successive Traffic Vertical Rate'].fillna(0)\n",
    "final_table['Successive Traffic Distance'] = final_table['Successive Traffic Distance'].fillna(final_table['Successive Traffic Distance'].max()+1)\n",
    "final_table['Successive Traffic Track sin'] = final_table['Successive Traffic Track sin'].fillna(0)\n",
    "final_table['Successive Traffic Track cos'] = final_table['Successive Traffic Track cos'].fillna(0)"
   ]
  },
  {
   "cell_type": "markdown",
   "metadata": {},
   "source": [
    "##### ROT Trend Features"
   ]
  },
  {
   "cell_type": "code",
   "execution_count": null,
   "metadata": {},
   "outputs": [],
   "source": [
    "final_table['Average ROT Previous Flight same ICAO Weight Category Total [s]'] = final_table.apply(\n",
    "    lambda row: row['Average ROT Total [s]']\n",
    "    if pd.isna(row['Average ROT Previous Flight same ICAO Weight Category Total [s]'])\n",
    "    else row['Average ROT Previous Flight same ICAO Weight Category Total [s]'],\n",
    "    axis=1\n",
    ")\n"
   ]
  },
  {
   "cell_type": "code",
   "execution_count": null,
   "metadata": {},
   "outputs": [],
   "source": [
    "final_table['Average ROT Previous Flight same ICAO Weight Category (Intensity) [s]'] = final_table.apply(\n",
    "    lambda row: row['Average ROT Previous Flight same ICAO Weight Category Total [s]']\n",
    "    if pd.isna(row['Average ROT Previous Flight same ICAO Weight Category (Intensity) [s]'])\n",
    "    else row['Average ROT Previous Flight same ICAO Weight Category (Intensity) [s]'],\n",
    "    axis=1\n",
    ")\n"
   ]
  },
  {
   "cell_type": "code",
   "execution_count": null,
   "metadata": {},
   "outputs": [],
   "source": [
    "final_table['Average ROT Previous 5 Flights same ICAO Weight Category [s]'] = final_table.apply(\n",
    "    lambda row: row['Average ROT Total [s]']\n",
    "    if pd.isna(row['Average ROT Previous 5 Flights same ICAO Weight Category [s]'])\n",
    "    else row['Average ROT Previous 5 Flights same ICAO Weight Category [s]'],\n",
    "    axis=1\n",
    ")\n"
   ]
  },
  {
   "cell_type": "code",
   "execution_count": null,
   "metadata": {},
   "outputs": [],
   "source": [
    "final_table['ROT Previous Flight same ICAO Weight Category [s]'] = final_table.apply(\n",
    "    lambda row: row['Average ROT Total [s]']\n",
    "    if pd.isna(row['ROT Previous Flight same ICAO Weight Category [s]'])\n",
    "    else row['ROT Previous Flight same ICAO Weight Category [s]'],\n",
    "    axis=1\n",
    ")\n"
   ]
  },
  {
   "cell_type": "code",
   "execution_count": null,
   "metadata": {},
   "outputs": [],
   "source": [
    "final_table['Average ROT Previous Flight same A/C Type Total [s]'] = final_table.apply(\n",
    "    lambda row: row['Average ROT Previous Flight same ICAO Weight Category Total [s]']\n",
    "    if pd.isna(row['Average ROT Previous Flight same A/C Type Total [s]'])\n",
    "    else row['Average ROT Previous Flight same A/C Type Total [s]'],\n",
    "    axis=1\n",
    ")\n"
   ]
  },
  {
   "cell_type": "code",
   "execution_count": null,
   "metadata": {},
   "outputs": [],
   "source": [
    "final_table['Average ROT Previous Flight same A/C Type (Intensity) [s]'] = final_table.apply(\n",
    "    lambda row: row['Average ROT Previous Flight same ICAO Weight Category (Intensity) [s]']\n",
    "    if pd.isna(row['Average ROT Previous Flight same A/C Type (Intensity) [s]'])\n",
    "    else row['Average ROT Previous Flight same A/C Type (Intensity) [s]'],\n",
    "    axis=1\n",
    ")\n"
   ]
  },
  {
   "cell_type": "code",
   "execution_count": null,
   "metadata": {},
   "outputs": [],
   "source": [
    "final_table['Average ROT Previous 5 Flights same A/C Type [s]'] = final_table.apply(\n",
    "    lambda row: row['Average ROT Previous 5 Flights same ICAO Weight Category [s]']\n",
    "    if pd.isna(row['Average ROT Previous 5 Flights same A/C Type [s]'])\n",
    "    else row['Average ROT Previous 5 Flights same A/C Type [s]'],\n",
    "    axis=1\n",
    ")\n"
   ]
  },
  {
   "cell_type": "code",
   "execution_count": null,
   "metadata": {},
   "outputs": [],
   "source": [
    "final_table['ROT Previous Flight same A/C Type [s]'] = final_table.apply(\n",
    "    lambda row: row['ROT Previous Flight same ICAO Weight Category [s]']\n",
    "    if pd.isna(row['ROT Previous Flight same A/C Type [s]'])\n",
    "    else row['ROT Previous Flight same A/C Type [s]'],\n",
    "    axis=1\n",
    ")\n"
   ]
  },
  {
   "cell_type": "code",
   "execution_count": null,
   "metadata": {},
   "outputs": [],
   "source": [
    "final_table['Average ROT Previous Flight (Intensity) [s]'] = final_table.apply(\n",
    "    lambda row: row['Average ROT Total [s]']\n",
    "    if pd.isna(row['Average ROT Previous Flight (Intensity) [s]'])\n",
    "    else row['Average ROT Previous Flight (Intensity) [s]'],\n",
    "    axis=1\n",
    ")\n"
   ]
  },
  {
   "cell_type": "code",
   "execution_count": null,
   "metadata": {},
   "outputs": [],
   "source": [
    "final_table"
   ]
  },
  {
   "cell_type": "code",
   "execution_count": null,
   "metadata": {},
   "outputs": [],
   "source": [
    "plt.hist(final_table['ROT [s]'], bins=range(30,151), edgecolor='black')"
   ]
  },
  {
   "cell_type": "code",
   "execution_count": null,
   "metadata": {},
   "outputs": [],
   "source": [
    "final_table.to_csv('Final_Table.csv', index=False)"
   ]
  }
 ],
 "metadata": {
  "kernelspec": {
   "display_name": ".venv",
   "language": "python",
   "name": "python3"
  },
  "language_info": {
   "name": "python",
   "version": "3.12.4"
  }
 },
 "nbformat": 4,
 "nbformat_minor": 4
}
